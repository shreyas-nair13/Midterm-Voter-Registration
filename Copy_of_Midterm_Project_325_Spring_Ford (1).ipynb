{
  "nbformat": 4,
  "nbformat_minor": 0,
  "metadata": {
    "colab": {
      "provenance": []
    },
    "kernelspec": {
      "name": "python3",
      "display_name": "Python 3"
    },
    "language_info": {
      "name": "python"
    }
  },
  "cells": [
    {
      "cell_type": "markdown",
      "source": [
        "##Instructions\n",
        "\n",
        "\n",
        "\n",
        "\n",
        "1. For every data visualization you make, add a proper description on the axes. Even if the variable name isn't terrible, explicitly add them. This is worth 1 point per axis per problem!\n",
        "2. For each question asking you to make a calculation, you must add a comment or a markdown cell explicitly answering the question. **Python output alone is insufficient.**"
      ],
      "metadata": {
        "id": "-LuKgWnQjAph"
      }
    },
    {
      "cell_type": "markdown",
      "source": [
        "## 0. Load Stuff\n",
        "\n",
        "Load the `pandas`, `matplotib`,`seaborn`, and `geopandas`libraries."
      ],
      "metadata": {
        "id": "udPFH5-UjHvG"
      }
    },
    {
      "cell_type": "code",
      "source": [
        "# import necessary libraries\n",
        "import pandas as pd\n",
        "import matplotlib.pyplot as plt\n",
        "import seaborn as sns\n",
        "import geopandas as gpd"
      ],
      "metadata": {
        "id": "4Ha_5Ng7EmTb"
      },
      "execution_count": 1,
      "outputs": []
    },
    {
      "cell_type": "code",
      "source": [
        "# read_csv will read in the info for the csv\n",
        "new_voter_df = pd.read_csv(\"https://raw.githubusercontent.com/fivethirtyeight/data/refs/heads/master/voter-registration/new-voter-registrations.csv\")"
      ],
      "metadata": {
        "id": "OcDE94iIFC_f"
      },
      "execution_count": 3,
      "outputs": []
    },
    {
      "cell_type": "markdown",
      "source": [
        "##Introduction (10 points)\n",
        "You've been hired to work with a government organization interested information about voter registration in the United States. They have asked you to come up with two research questions--one about national trends and one about a state trend of your choice.\n",
        "\n",
        "Clearly state:\n",
        "* the purpose of your project\n",
        "* what the goal is\n",
        "* why it is important for someone to read this notebook?\n",
        "\n",
        "In additon, state your two research questions\n",
        "\n",
        "* Question 1:\n",
        "* Question 2:\n",
        "\n"
      ],
      "metadata": {
        "id": "0NhbKuYLj0v0"
      }
    },
    {
      "cell_type": "markdown",
      "source": [
        "The purpose of my project is show how registered voters varies from different states and years. Voting is an important right and has shaped our future. I hope to use my skills in Python to help show trends in data that cannot be seen from raw data alone. It is important for other readers to visually see how many people register to vote and see what actions can be done to increase voter registration. My two questions I hope to answer for anyone reading this notebook is how do the total registered voters in 2016 compare to the total registered voters in 2020 and how many registered voters are there in Arizona based on the month.\n"
      ],
      "metadata": {
        "id": "U64E4PM-u51M"
      }
    },
    {
      "cell_type": "markdown",
      "source": [
        "## 1. Data Processing (8 points)"
      ],
      "metadata": {
        "id": "EvmhQ4aMjYas"
      }
    },
    {
      "cell_type": "markdown",
      "source": [
        "Show the first five rows of data and explain what the variable names are. (5 points)"
      ],
      "metadata": {
        "id": "ExN1Y2VBjd-u"
      }
    },
    {
      "cell_type": "code",
      "source": [
        "# head = defaults to the first 5\n",
        "new_voter_df.head()"
      ],
      "metadata": {
        "id": "tVyoWWUEFE8z",
        "colab": {
          "base_uri": "https://localhost:8080/",
          "height": 206
        },
        "outputId": "adfe6c55-4d01-46c2-f740-cc7901da9103"
      },
      "execution_count": 4,
      "outputs": [
        {
          "output_type": "execute_result",
          "data": {
            "text/plain": [
              "  Jurisdiction  Year Month  New registered voters\n",
              "0      Arizona  2016   Jan                  25852\n",
              "1      Arizona  2016   Feb                  51155\n",
              "2      Arizona  2016   Mar                  48614\n",
              "3      Arizona  2016   Apr                  30668\n",
              "4      Arizona  2020   Jan                  33229"
            ],
            "text/html": [
              "\n",
              "  <div id=\"df-0ee8e9d4-5bb7-41f4-87f6-9944be708022\" class=\"colab-df-container\">\n",
              "    <div>\n",
              "<style scoped>\n",
              "    .dataframe tbody tr th:only-of-type {\n",
              "        vertical-align: middle;\n",
              "    }\n",
              "\n",
              "    .dataframe tbody tr th {\n",
              "        vertical-align: top;\n",
              "    }\n",
              "\n",
              "    .dataframe thead th {\n",
              "        text-align: right;\n",
              "    }\n",
              "</style>\n",
              "<table border=\"1\" class=\"dataframe\">\n",
              "  <thead>\n",
              "    <tr style=\"text-align: right;\">\n",
              "      <th></th>\n",
              "      <th>Jurisdiction</th>\n",
              "      <th>Year</th>\n",
              "      <th>Month</th>\n",
              "      <th>New registered voters</th>\n",
              "    </tr>\n",
              "  </thead>\n",
              "  <tbody>\n",
              "    <tr>\n",
              "      <th>0</th>\n",
              "      <td>Arizona</td>\n",
              "      <td>2016</td>\n",
              "      <td>Jan</td>\n",
              "      <td>25852</td>\n",
              "    </tr>\n",
              "    <tr>\n",
              "      <th>1</th>\n",
              "      <td>Arizona</td>\n",
              "      <td>2016</td>\n",
              "      <td>Feb</td>\n",
              "      <td>51155</td>\n",
              "    </tr>\n",
              "    <tr>\n",
              "      <th>2</th>\n",
              "      <td>Arizona</td>\n",
              "      <td>2016</td>\n",
              "      <td>Mar</td>\n",
              "      <td>48614</td>\n",
              "    </tr>\n",
              "    <tr>\n",
              "      <th>3</th>\n",
              "      <td>Arizona</td>\n",
              "      <td>2016</td>\n",
              "      <td>Apr</td>\n",
              "      <td>30668</td>\n",
              "    </tr>\n",
              "    <tr>\n",
              "      <th>4</th>\n",
              "      <td>Arizona</td>\n",
              "      <td>2020</td>\n",
              "      <td>Jan</td>\n",
              "      <td>33229</td>\n",
              "    </tr>\n",
              "  </tbody>\n",
              "</table>\n",
              "</div>\n",
              "    <div class=\"colab-df-buttons\">\n",
              "\n",
              "  <div class=\"colab-df-container\">\n",
              "    <button class=\"colab-df-convert\" onclick=\"convertToInteractive('df-0ee8e9d4-5bb7-41f4-87f6-9944be708022')\"\n",
              "            title=\"Convert this dataframe to an interactive table.\"\n",
              "            style=\"display:none;\">\n",
              "\n",
              "  <svg xmlns=\"http://www.w3.org/2000/svg\" height=\"24px\" viewBox=\"0 -960 960 960\">\n",
              "    <path d=\"M120-120v-720h720v720H120Zm60-500h600v-160H180v160Zm220 220h160v-160H400v160Zm0 220h160v-160H400v160ZM180-400h160v-160H180v160Zm440 0h160v-160H620v160ZM180-180h160v-160H180v160Zm440 0h160v-160H620v160Z\"/>\n",
              "  </svg>\n",
              "    </button>\n",
              "\n",
              "  <style>\n",
              "    .colab-df-container {\n",
              "      display:flex;\n",
              "      gap: 12px;\n",
              "    }\n",
              "\n",
              "    .colab-df-convert {\n",
              "      background-color: #E8F0FE;\n",
              "      border: none;\n",
              "      border-radius: 50%;\n",
              "      cursor: pointer;\n",
              "      display: none;\n",
              "      fill: #1967D2;\n",
              "      height: 32px;\n",
              "      padding: 0 0 0 0;\n",
              "      width: 32px;\n",
              "    }\n",
              "\n",
              "    .colab-df-convert:hover {\n",
              "      background-color: #E2EBFA;\n",
              "      box-shadow: 0px 1px 2px rgba(60, 64, 67, 0.3), 0px 1px 3px 1px rgba(60, 64, 67, 0.15);\n",
              "      fill: #174EA6;\n",
              "    }\n",
              "\n",
              "    .colab-df-buttons div {\n",
              "      margin-bottom: 4px;\n",
              "    }\n",
              "\n",
              "    [theme=dark] .colab-df-convert {\n",
              "      background-color: #3B4455;\n",
              "      fill: #D2E3FC;\n",
              "    }\n",
              "\n",
              "    [theme=dark] .colab-df-convert:hover {\n",
              "      background-color: #434B5C;\n",
              "      box-shadow: 0px 1px 3px 1px rgba(0, 0, 0, 0.15);\n",
              "      filter: drop-shadow(0px 1px 2px rgba(0, 0, 0, 0.3));\n",
              "      fill: #FFFFFF;\n",
              "    }\n",
              "  </style>\n",
              "\n",
              "    <script>\n",
              "      const buttonEl =\n",
              "        document.querySelector('#df-0ee8e9d4-5bb7-41f4-87f6-9944be708022 button.colab-df-convert');\n",
              "      buttonEl.style.display =\n",
              "        google.colab.kernel.accessAllowed ? 'block' : 'none';\n",
              "\n",
              "      async function convertToInteractive(key) {\n",
              "        const element = document.querySelector('#df-0ee8e9d4-5bb7-41f4-87f6-9944be708022');\n",
              "        const dataTable =\n",
              "          await google.colab.kernel.invokeFunction('convertToInteractive',\n",
              "                                                    [key], {});\n",
              "        if (!dataTable) return;\n",
              "\n",
              "        const docLinkHtml = 'Like what you see? Visit the ' +\n",
              "          '<a target=\"_blank\" href=https://colab.research.google.com/notebooks/data_table.ipynb>data table notebook</a>'\n",
              "          + ' to learn more about interactive tables.';\n",
              "        element.innerHTML = '';\n",
              "        dataTable['output_type'] = 'display_data';\n",
              "        await google.colab.output.renderOutput(dataTable, element);\n",
              "        const docLink = document.createElement('div');\n",
              "        docLink.innerHTML = docLinkHtml;\n",
              "        element.appendChild(docLink);\n",
              "      }\n",
              "    </script>\n",
              "  </div>\n",
              "\n",
              "\n",
              "<div id=\"df-3f0b03a4-3251-4de4-9e69-e12c9e689df9\">\n",
              "  <button class=\"colab-df-quickchart\" onclick=\"quickchart('df-3f0b03a4-3251-4de4-9e69-e12c9e689df9')\"\n",
              "            title=\"Suggest charts\"\n",
              "            style=\"display:none;\">\n",
              "\n",
              "<svg xmlns=\"http://www.w3.org/2000/svg\" height=\"24px\"viewBox=\"0 0 24 24\"\n",
              "     width=\"24px\">\n",
              "    <g>\n",
              "        <path d=\"M19 3H5c-1.1 0-2 .9-2 2v14c0 1.1.9 2 2 2h14c1.1 0 2-.9 2-2V5c0-1.1-.9-2-2-2zM9 17H7v-7h2v7zm4 0h-2V7h2v10zm4 0h-2v-4h2v4z\"/>\n",
              "    </g>\n",
              "</svg>\n",
              "  </button>\n",
              "\n",
              "<style>\n",
              "  .colab-df-quickchart {\n",
              "      --bg-color: #E8F0FE;\n",
              "      --fill-color: #1967D2;\n",
              "      --hover-bg-color: #E2EBFA;\n",
              "      --hover-fill-color: #174EA6;\n",
              "      --disabled-fill-color: #AAA;\n",
              "      --disabled-bg-color: #DDD;\n",
              "  }\n",
              "\n",
              "  [theme=dark] .colab-df-quickchart {\n",
              "      --bg-color: #3B4455;\n",
              "      --fill-color: #D2E3FC;\n",
              "      --hover-bg-color: #434B5C;\n",
              "      --hover-fill-color: #FFFFFF;\n",
              "      --disabled-bg-color: #3B4455;\n",
              "      --disabled-fill-color: #666;\n",
              "  }\n",
              "\n",
              "  .colab-df-quickchart {\n",
              "    background-color: var(--bg-color);\n",
              "    border: none;\n",
              "    border-radius: 50%;\n",
              "    cursor: pointer;\n",
              "    display: none;\n",
              "    fill: var(--fill-color);\n",
              "    height: 32px;\n",
              "    padding: 0;\n",
              "    width: 32px;\n",
              "  }\n",
              "\n",
              "  .colab-df-quickchart:hover {\n",
              "    background-color: var(--hover-bg-color);\n",
              "    box-shadow: 0 1px 2px rgba(60, 64, 67, 0.3), 0 1px 3px 1px rgba(60, 64, 67, 0.15);\n",
              "    fill: var(--button-hover-fill-color);\n",
              "  }\n",
              "\n",
              "  .colab-df-quickchart-complete:disabled,\n",
              "  .colab-df-quickchart-complete:disabled:hover {\n",
              "    background-color: var(--disabled-bg-color);\n",
              "    fill: var(--disabled-fill-color);\n",
              "    box-shadow: none;\n",
              "  }\n",
              "\n",
              "  .colab-df-spinner {\n",
              "    border: 2px solid var(--fill-color);\n",
              "    border-color: transparent;\n",
              "    border-bottom-color: var(--fill-color);\n",
              "    animation:\n",
              "      spin 1s steps(1) infinite;\n",
              "  }\n",
              "\n",
              "  @keyframes spin {\n",
              "    0% {\n",
              "      border-color: transparent;\n",
              "      border-bottom-color: var(--fill-color);\n",
              "      border-left-color: var(--fill-color);\n",
              "    }\n",
              "    20% {\n",
              "      border-color: transparent;\n",
              "      border-left-color: var(--fill-color);\n",
              "      border-top-color: var(--fill-color);\n",
              "    }\n",
              "    30% {\n",
              "      border-color: transparent;\n",
              "      border-left-color: var(--fill-color);\n",
              "      border-top-color: var(--fill-color);\n",
              "      border-right-color: var(--fill-color);\n",
              "    }\n",
              "    40% {\n",
              "      border-color: transparent;\n",
              "      border-right-color: var(--fill-color);\n",
              "      border-top-color: var(--fill-color);\n",
              "    }\n",
              "    60% {\n",
              "      border-color: transparent;\n",
              "      border-right-color: var(--fill-color);\n",
              "    }\n",
              "    80% {\n",
              "      border-color: transparent;\n",
              "      border-right-color: var(--fill-color);\n",
              "      border-bottom-color: var(--fill-color);\n",
              "    }\n",
              "    90% {\n",
              "      border-color: transparent;\n",
              "      border-bottom-color: var(--fill-color);\n",
              "    }\n",
              "  }\n",
              "</style>\n",
              "\n",
              "  <script>\n",
              "    async function quickchart(key) {\n",
              "      const quickchartButtonEl =\n",
              "        document.querySelector('#' + key + ' button');\n",
              "      quickchartButtonEl.disabled = true;  // To prevent multiple clicks.\n",
              "      quickchartButtonEl.classList.add('colab-df-spinner');\n",
              "      try {\n",
              "        const charts = await google.colab.kernel.invokeFunction(\n",
              "            'suggestCharts', [key], {});\n",
              "      } catch (error) {\n",
              "        console.error('Error during call to suggestCharts:', error);\n",
              "      }\n",
              "      quickchartButtonEl.classList.remove('colab-df-spinner');\n",
              "      quickchartButtonEl.classList.add('colab-df-quickchart-complete');\n",
              "    }\n",
              "    (() => {\n",
              "      let quickchartButtonEl =\n",
              "        document.querySelector('#df-3f0b03a4-3251-4de4-9e69-e12c9e689df9 button');\n",
              "      quickchartButtonEl.style.display =\n",
              "        google.colab.kernel.accessAllowed ? 'block' : 'none';\n",
              "    })();\n",
              "  </script>\n",
              "</div>\n",
              "\n",
              "    </div>\n",
              "  </div>\n"
            ],
            "application/vnd.google.colaboratory.intrinsic+json": {
              "type": "dataframe",
              "variable_name": "new_voter_df",
              "summary": "{\n  \"name\": \"new_voter_df\",\n  \"rows\": 106,\n  \"fields\": [\n    {\n      \"column\": \"Jurisdiction\",\n      \"properties\": {\n        \"dtype\": \"category\",\n        \"num_unique_values\": 12,\n        \"samples\": [\n          \"Texas\",\n          \"North Carolina\",\n          \"Arizona\"\n        ],\n        \"semantic_type\": \"\",\n        \"description\": \"\"\n      }\n    },\n    {\n      \"column\": \"Year\",\n      \"properties\": {\n        \"dtype\": \"number\",\n        \"std\": 2,\n        \"min\": 2016,\n        \"max\": 2020,\n        \"num_unique_values\": 2,\n        \"samples\": [\n          2020,\n          2016\n        ],\n        \"semantic_type\": \"\",\n        \"description\": \"\"\n      }\n    },\n    {\n      \"column\": \"Month\",\n      \"properties\": {\n        \"dtype\": \"category\",\n        \"num_unique_values\": 5,\n        \"samples\": [\n          \"Feb\",\n          \"May\"\n        ],\n        \"semantic_type\": \"\",\n        \"description\": \"\"\n      }\n    },\n    {\n      \"column\": \"New registered voters\",\n      \"properties\": {\n        \"dtype\": \"number\",\n        \"std\": 48596,\n        \"min\": 589,\n        \"max\": 238281,\n        \"num_unique_values\": 106,\n        \"samples\": [\n          26239,\n          174278\n        ],\n        \"semantic_type\": \"\",\n        \"description\": \"\"\n      }\n    }\n  ]\n}"
            }
          },
          "metadata": {},
          "execution_count": 4
        }
      ]
    },
    {
      "cell_type": "markdown",
      "source": [
        "Check for any missing data data. (1 point)"
      ],
      "metadata": {
        "id": "V4AdCw75iskT"
      }
    },
    {
      "cell_type": "code",
      "source": [
        "# Checks for null values via the first notebook\n",
        "new_voter_df.isnull().values.any()\n"
      ],
      "metadata": {
        "id": "nhzCK0HFFF9R",
        "colab": {
          "base_uri": "https://localhost:8080/"
        },
        "outputId": "993d70a6-a718-44a6-83a9-dfe20f1aa474"
      },
      "execution_count": 5,
      "outputs": [
        {
          "output_type": "execute_result",
          "data": {
            "text/plain": [
              "False"
            ]
          },
          "metadata": {},
          "execution_count": 5
        }
      ]
    },
    {
      "cell_type": "markdown",
      "source": [
        "Check your data types. (1 point)"
      ],
      "metadata": {
        "id": "M2fwyrdolVLq"
      }
    },
    {
      "cell_type": "markdown",
      "source": [
        "Rename the jurisdiction column to \"NAME\" and the \"New registered voters\" to \"registered_voters\" to use througout the notebook. (2 points)"
      ],
      "metadata": {
        "id": "WqicEyDqlbDV"
      }
    },
    {
      "cell_type": "code",
      "source": [
        "#dtypes will explain the data type for each column\n",
        "new_voter_df.dtypes"
      ],
      "metadata": {
        "id": "bqcc9myTFHQW",
        "colab": {
          "base_uri": "https://localhost:8080/",
          "height": 210
        },
        "outputId": "a016d9da-9533-45d6-dabd-eb5e532c3d89"
      },
      "execution_count": 6,
      "outputs": [
        {
          "output_type": "execute_result",
          "data": {
            "text/plain": [
              "Jurisdiction             object\n",
              "Year                      int64\n",
              "Month                    object\n",
              "New registered voters     int64\n",
              "dtype: object"
            ],
            "text/html": [
              "<div>\n",
              "<style scoped>\n",
              "    .dataframe tbody tr th:only-of-type {\n",
              "        vertical-align: middle;\n",
              "    }\n",
              "\n",
              "    .dataframe tbody tr th {\n",
              "        vertical-align: top;\n",
              "    }\n",
              "\n",
              "    .dataframe thead th {\n",
              "        text-align: right;\n",
              "    }\n",
              "</style>\n",
              "<table border=\"1\" class=\"dataframe\">\n",
              "  <thead>\n",
              "    <tr style=\"text-align: right;\">\n",
              "      <th></th>\n",
              "      <th>0</th>\n",
              "    </tr>\n",
              "  </thead>\n",
              "  <tbody>\n",
              "    <tr>\n",
              "      <th>Jurisdiction</th>\n",
              "      <td>object</td>\n",
              "    </tr>\n",
              "    <tr>\n",
              "      <th>Year</th>\n",
              "      <td>int64</td>\n",
              "    </tr>\n",
              "    <tr>\n",
              "      <th>Month</th>\n",
              "      <td>object</td>\n",
              "    </tr>\n",
              "    <tr>\n",
              "      <th>New registered voters</th>\n",
              "      <td>int64</td>\n",
              "    </tr>\n",
              "  </tbody>\n",
              "</table>\n",
              "</div><br><label><b>dtype:</b> object</label>"
            ]
          },
          "metadata": {},
          "execution_count": 6
        }
      ]
    },
    {
      "cell_type": "code",
      "source": [
        "# rename() will make set new column names separated by a colon\n",
        "# using head() to make sure changes are made permanently\n",
        "new_voter_df=new_voter_df.rename(columns={\"Jurisdiction\":\"NAME\",\n",
        "                     \"New registered voters\":\"registered_voters\"})\n",
        "\n",
        "new_voter_df.head()"
      ],
      "metadata": {
        "colab": {
          "base_uri": "https://localhost:8080/",
          "height": 206
        },
        "id": "ps4RUCMyoaG9",
        "outputId": "83aad746-3014-456e-c9d3-500a1c4d06cd"
      },
      "execution_count": 7,
      "outputs": [
        {
          "output_type": "execute_result",
          "data": {
            "text/plain": [
              "      NAME  Year Month  registered_voters\n",
              "0  Arizona  2016   Jan              25852\n",
              "1  Arizona  2016   Feb              51155\n",
              "2  Arizona  2016   Mar              48614\n",
              "3  Arizona  2016   Apr              30668\n",
              "4  Arizona  2020   Jan              33229"
            ],
            "text/html": [
              "\n",
              "  <div id=\"df-b316ac94-18b3-4baa-a21c-ba3b3de0ab29\" class=\"colab-df-container\">\n",
              "    <div>\n",
              "<style scoped>\n",
              "    .dataframe tbody tr th:only-of-type {\n",
              "        vertical-align: middle;\n",
              "    }\n",
              "\n",
              "    .dataframe tbody tr th {\n",
              "        vertical-align: top;\n",
              "    }\n",
              "\n",
              "    .dataframe thead th {\n",
              "        text-align: right;\n",
              "    }\n",
              "</style>\n",
              "<table border=\"1\" class=\"dataframe\">\n",
              "  <thead>\n",
              "    <tr style=\"text-align: right;\">\n",
              "      <th></th>\n",
              "      <th>NAME</th>\n",
              "      <th>Year</th>\n",
              "      <th>Month</th>\n",
              "      <th>registered_voters</th>\n",
              "    </tr>\n",
              "  </thead>\n",
              "  <tbody>\n",
              "    <tr>\n",
              "      <th>0</th>\n",
              "      <td>Arizona</td>\n",
              "      <td>2016</td>\n",
              "      <td>Jan</td>\n",
              "      <td>25852</td>\n",
              "    </tr>\n",
              "    <tr>\n",
              "      <th>1</th>\n",
              "      <td>Arizona</td>\n",
              "      <td>2016</td>\n",
              "      <td>Feb</td>\n",
              "      <td>51155</td>\n",
              "    </tr>\n",
              "    <tr>\n",
              "      <th>2</th>\n",
              "      <td>Arizona</td>\n",
              "      <td>2016</td>\n",
              "      <td>Mar</td>\n",
              "      <td>48614</td>\n",
              "    </tr>\n",
              "    <tr>\n",
              "      <th>3</th>\n",
              "      <td>Arizona</td>\n",
              "      <td>2016</td>\n",
              "      <td>Apr</td>\n",
              "      <td>30668</td>\n",
              "    </tr>\n",
              "    <tr>\n",
              "      <th>4</th>\n",
              "      <td>Arizona</td>\n",
              "      <td>2020</td>\n",
              "      <td>Jan</td>\n",
              "      <td>33229</td>\n",
              "    </tr>\n",
              "  </tbody>\n",
              "</table>\n",
              "</div>\n",
              "    <div class=\"colab-df-buttons\">\n",
              "\n",
              "  <div class=\"colab-df-container\">\n",
              "    <button class=\"colab-df-convert\" onclick=\"convertToInteractive('df-b316ac94-18b3-4baa-a21c-ba3b3de0ab29')\"\n",
              "            title=\"Convert this dataframe to an interactive table.\"\n",
              "            style=\"display:none;\">\n",
              "\n",
              "  <svg xmlns=\"http://www.w3.org/2000/svg\" height=\"24px\" viewBox=\"0 -960 960 960\">\n",
              "    <path d=\"M120-120v-720h720v720H120Zm60-500h600v-160H180v160Zm220 220h160v-160H400v160Zm0 220h160v-160H400v160ZM180-400h160v-160H180v160Zm440 0h160v-160H620v160ZM180-180h160v-160H180v160Zm440 0h160v-160H620v160Z\"/>\n",
              "  </svg>\n",
              "    </button>\n",
              "\n",
              "  <style>\n",
              "    .colab-df-container {\n",
              "      display:flex;\n",
              "      gap: 12px;\n",
              "    }\n",
              "\n",
              "    .colab-df-convert {\n",
              "      background-color: #E8F0FE;\n",
              "      border: none;\n",
              "      border-radius: 50%;\n",
              "      cursor: pointer;\n",
              "      display: none;\n",
              "      fill: #1967D2;\n",
              "      height: 32px;\n",
              "      padding: 0 0 0 0;\n",
              "      width: 32px;\n",
              "    }\n",
              "\n",
              "    .colab-df-convert:hover {\n",
              "      background-color: #E2EBFA;\n",
              "      box-shadow: 0px 1px 2px rgba(60, 64, 67, 0.3), 0px 1px 3px 1px rgba(60, 64, 67, 0.15);\n",
              "      fill: #174EA6;\n",
              "    }\n",
              "\n",
              "    .colab-df-buttons div {\n",
              "      margin-bottom: 4px;\n",
              "    }\n",
              "\n",
              "    [theme=dark] .colab-df-convert {\n",
              "      background-color: #3B4455;\n",
              "      fill: #D2E3FC;\n",
              "    }\n",
              "\n",
              "    [theme=dark] .colab-df-convert:hover {\n",
              "      background-color: #434B5C;\n",
              "      box-shadow: 0px 1px 3px 1px rgba(0, 0, 0, 0.15);\n",
              "      filter: drop-shadow(0px 1px 2px rgba(0, 0, 0, 0.3));\n",
              "      fill: #FFFFFF;\n",
              "    }\n",
              "  </style>\n",
              "\n",
              "    <script>\n",
              "      const buttonEl =\n",
              "        document.querySelector('#df-b316ac94-18b3-4baa-a21c-ba3b3de0ab29 button.colab-df-convert');\n",
              "      buttonEl.style.display =\n",
              "        google.colab.kernel.accessAllowed ? 'block' : 'none';\n",
              "\n",
              "      async function convertToInteractive(key) {\n",
              "        const element = document.querySelector('#df-b316ac94-18b3-4baa-a21c-ba3b3de0ab29');\n",
              "        const dataTable =\n",
              "          await google.colab.kernel.invokeFunction('convertToInteractive',\n",
              "                                                    [key], {});\n",
              "        if (!dataTable) return;\n",
              "\n",
              "        const docLinkHtml = 'Like what you see? Visit the ' +\n",
              "          '<a target=\"_blank\" href=https://colab.research.google.com/notebooks/data_table.ipynb>data table notebook</a>'\n",
              "          + ' to learn more about interactive tables.';\n",
              "        element.innerHTML = '';\n",
              "        dataTable['output_type'] = 'display_data';\n",
              "        await google.colab.output.renderOutput(dataTable, element);\n",
              "        const docLink = document.createElement('div');\n",
              "        docLink.innerHTML = docLinkHtml;\n",
              "        element.appendChild(docLink);\n",
              "      }\n",
              "    </script>\n",
              "  </div>\n",
              "\n",
              "\n",
              "<div id=\"df-bfba0808-3ade-4e6e-8560-d36b2658a967\">\n",
              "  <button class=\"colab-df-quickchart\" onclick=\"quickchart('df-bfba0808-3ade-4e6e-8560-d36b2658a967')\"\n",
              "            title=\"Suggest charts\"\n",
              "            style=\"display:none;\">\n",
              "\n",
              "<svg xmlns=\"http://www.w3.org/2000/svg\" height=\"24px\"viewBox=\"0 0 24 24\"\n",
              "     width=\"24px\">\n",
              "    <g>\n",
              "        <path d=\"M19 3H5c-1.1 0-2 .9-2 2v14c0 1.1.9 2 2 2h14c1.1 0 2-.9 2-2V5c0-1.1-.9-2-2-2zM9 17H7v-7h2v7zm4 0h-2V7h2v10zm4 0h-2v-4h2v4z\"/>\n",
              "    </g>\n",
              "</svg>\n",
              "  </button>\n",
              "\n",
              "<style>\n",
              "  .colab-df-quickchart {\n",
              "      --bg-color: #E8F0FE;\n",
              "      --fill-color: #1967D2;\n",
              "      --hover-bg-color: #E2EBFA;\n",
              "      --hover-fill-color: #174EA6;\n",
              "      --disabled-fill-color: #AAA;\n",
              "      --disabled-bg-color: #DDD;\n",
              "  }\n",
              "\n",
              "  [theme=dark] .colab-df-quickchart {\n",
              "      --bg-color: #3B4455;\n",
              "      --fill-color: #D2E3FC;\n",
              "      --hover-bg-color: #434B5C;\n",
              "      --hover-fill-color: #FFFFFF;\n",
              "      --disabled-bg-color: #3B4455;\n",
              "      --disabled-fill-color: #666;\n",
              "  }\n",
              "\n",
              "  .colab-df-quickchart {\n",
              "    background-color: var(--bg-color);\n",
              "    border: none;\n",
              "    border-radius: 50%;\n",
              "    cursor: pointer;\n",
              "    display: none;\n",
              "    fill: var(--fill-color);\n",
              "    height: 32px;\n",
              "    padding: 0;\n",
              "    width: 32px;\n",
              "  }\n",
              "\n",
              "  .colab-df-quickchart:hover {\n",
              "    background-color: var(--hover-bg-color);\n",
              "    box-shadow: 0 1px 2px rgba(60, 64, 67, 0.3), 0 1px 3px 1px rgba(60, 64, 67, 0.15);\n",
              "    fill: var(--button-hover-fill-color);\n",
              "  }\n",
              "\n",
              "  .colab-df-quickchart-complete:disabled,\n",
              "  .colab-df-quickchart-complete:disabled:hover {\n",
              "    background-color: var(--disabled-bg-color);\n",
              "    fill: var(--disabled-fill-color);\n",
              "    box-shadow: none;\n",
              "  }\n",
              "\n",
              "  .colab-df-spinner {\n",
              "    border: 2px solid var(--fill-color);\n",
              "    border-color: transparent;\n",
              "    border-bottom-color: var(--fill-color);\n",
              "    animation:\n",
              "      spin 1s steps(1) infinite;\n",
              "  }\n",
              "\n",
              "  @keyframes spin {\n",
              "    0% {\n",
              "      border-color: transparent;\n",
              "      border-bottom-color: var(--fill-color);\n",
              "      border-left-color: var(--fill-color);\n",
              "    }\n",
              "    20% {\n",
              "      border-color: transparent;\n",
              "      border-left-color: var(--fill-color);\n",
              "      border-top-color: var(--fill-color);\n",
              "    }\n",
              "    30% {\n",
              "      border-color: transparent;\n",
              "      border-left-color: var(--fill-color);\n",
              "      border-top-color: var(--fill-color);\n",
              "      border-right-color: var(--fill-color);\n",
              "    }\n",
              "    40% {\n",
              "      border-color: transparent;\n",
              "      border-right-color: var(--fill-color);\n",
              "      border-top-color: var(--fill-color);\n",
              "    }\n",
              "    60% {\n",
              "      border-color: transparent;\n",
              "      border-right-color: var(--fill-color);\n",
              "    }\n",
              "    80% {\n",
              "      border-color: transparent;\n",
              "      border-right-color: var(--fill-color);\n",
              "      border-bottom-color: var(--fill-color);\n",
              "    }\n",
              "    90% {\n",
              "      border-color: transparent;\n",
              "      border-bottom-color: var(--fill-color);\n",
              "    }\n",
              "  }\n",
              "</style>\n",
              "\n",
              "  <script>\n",
              "    async function quickchart(key) {\n",
              "      const quickchartButtonEl =\n",
              "        document.querySelector('#' + key + ' button');\n",
              "      quickchartButtonEl.disabled = true;  // To prevent multiple clicks.\n",
              "      quickchartButtonEl.classList.add('colab-df-spinner');\n",
              "      try {\n",
              "        const charts = await google.colab.kernel.invokeFunction(\n",
              "            'suggestCharts', [key], {});\n",
              "      } catch (error) {\n",
              "        console.error('Error during call to suggestCharts:', error);\n",
              "      }\n",
              "      quickchartButtonEl.classList.remove('colab-df-spinner');\n",
              "      quickchartButtonEl.classList.add('colab-df-quickchart-complete');\n",
              "    }\n",
              "    (() => {\n",
              "      let quickchartButtonEl =\n",
              "        document.querySelector('#df-bfba0808-3ade-4e6e-8560-d36b2658a967 button');\n",
              "      quickchartButtonEl.style.display =\n",
              "        google.colab.kernel.accessAllowed ? 'block' : 'none';\n",
              "    })();\n",
              "  </script>\n",
              "</div>\n",
              "\n",
              "    </div>\n",
              "  </div>\n"
            ],
            "application/vnd.google.colaboratory.intrinsic+json": {
              "type": "dataframe",
              "variable_name": "new_voter_df",
              "summary": "{\n  \"name\": \"new_voter_df\",\n  \"rows\": 106,\n  \"fields\": [\n    {\n      \"column\": \"NAME\",\n      \"properties\": {\n        \"dtype\": \"category\",\n        \"num_unique_values\": 12,\n        \"samples\": [\n          \"Texas\",\n          \"North Carolina\",\n          \"Arizona\"\n        ],\n        \"semantic_type\": \"\",\n        \"description\": \"\"\n      }\n    },\n    {\n      \"column\": \"Year\",\n      \"properties\": {\n        \"dtype\": \"number\",\n        \"std\": 2,\n        \"min\": 2016,\n        \"max\": 2020,\n        \"num_unique_values\": 2,\n        \"samples\": [\n          2020,\n          2016\n        ],\n        \"semantic_type\": \"\",\n        \"description\": \"\"\n      }\n    },\n    {\n      \"column\": \"Month\",\n      \"properties\": {\n        \"dtype\": \"category\",\n        \"num_unique_values\": 5,\n        \"samples\": [\n          \"Feb\",\n          \"May\"\n        ],\n        \"semantic_type\": \"\",\n        \"description\": \"\"\n      }\n    },\n    {\n      \"column\": \"registered_voters\",\n      \"properties\": {\n        \"dtype\": \"number\",\n        \"std\": 48596,\n        \"min\": 589,\n        \"max\": 238281,\n        \"num_unique_values\": 106,\n        \"samples\": [\n          26239,\n          174278\n        ],\n        \"semantic_type\": \"\",\n        \"description\": \"\"\n      }\n    }\n  ]\n}"
            }
          },
          "metadata": {},
          "execution_count": 7
        }
      ]
    },
    {
      "cell_type": "markdown",
      "source": [
        "Explain any potential limitations to your data (2 points)"
      ],
      "metadata": {
        "id": "WfUNd1pJ1y2N"
      }
    },
    {
      "cell_type": "markdown",
      "source": [
        "One limitation I see with this data is that it does not account for actual participation in elections,\n",
        "rather the data only features new people who are registered to vote.\n",
        "Many states are also not included in the data and would shift trends that we could potentially see in the data."
      ],
      "metadata": {
        "id": "eWaxjoshuoY_"
      }
    },
    {
      "cell_type": "markdown",
      "source": [
        "###Exploratory Data Analysis (20 points, as noted)"
      ],
      "metadata": {
        "id": "_u3e0lxol9RU"
      }
    },
    {
      "cell_type": "markdown",
      "source": [
        "When was the highest amount of new voter registration? Show the state, month, year, and number of registered voters. (5 points)\n",
        "\n"
      ],
      "metadata": {
        "id": "w1U_R_rAmd9y"
      }
    },
    {
      "cell_type": "code",
      "source": [
        "# use loc to find rows that match the highest number of registered voters\n",
        "# use idxmax to find the highest\n",
        "new_voter_df.loc[new_voter_df[\"registered_voters\"].idxmax()]"
      ],
      "metadata": {
        "id": "vsDudPp-FKQM",
        "colab": {
          "base_uri": "https://localhost:8080/",
          "height": 210
        },
        "outputId": "f8a47327-02bb-4bb2-b446-a310c79876d0"
      },
      "execution_count": 8,
      "outputs": [
        {
          "output_type": "execute_result",
          "data": {
            "text/plain": [
              "NAME                 California\n",
              "Year                       2020\n",
              "Month                       Feb\n",
              "registered_voters        238281\n",
              "Name: 13, dtype: object"
            ],
            "text/html": [
              "<div>\n",
              "<style scoped>\n",
              "    .dataframe tbody tr th:only-of-type {\n",
              "        vertical-align: middle;\n",
              "    }\n",
              "\n",
              "    .dataframe tbody tr th {\n",
              "        vertical-align: top;\n",
              "    }\n",
              "\n",
              "    .dataframe thead th {\n",
              "        text-align: right;\n",
              "    }\n",
              "</style>\n",
              "<table border=\"1\" class=\"dataframe\">\n",
              "  <thead>\n",
              "    <tr style=\"text-align: right;\">\n",
              "      <th></th>\n",
              "      <th>13</th>\n",
              "    </tr>\n",
              "  </thead>\n",
              "  <tbody>\n",
              "    <tr>\n",
              "      <th>NAME</th>\n",
              "      <td>California</td>\n",
              "    </tr>\n",
              "    <tr>\n",
              "      <th>Year</th>\n",
              "      <td>2020</td>\n",
              "    </tr>\n",
              "    <tr>\n",
              "      <th>Month</th>\n",
              "      <td>Feb</td>\n",
              "    </tr>\n",
              "    <tr>\n",
              "      <th>registered_voters</th>\n",
              "      <td>238281</td>\n",
              "    </tr>\n",
              "  </tbody>\n",
              "</table>\n",
              "</div><br><label><b>dtype:</b> object</label>"
            ]
          },
          "metadata": {},
          "execution_count": 8
        }
      ]
    },
    {
      "cell_type": "markdown",
      "source": [
        "What is the average voter registration? (1 points)"
      ],
      "metadata": {
        "id": "tnBX7ouGobgN"
      }
    },
    {
      "cell_type": "code",
      "source": [
        "# .mean() will calculate the mean\n",
        "avg_voter_reg = new_voter_df[\"registered_voters\"].mean()\n",
        "avg_voter_reg"
      ],
      "metadata": {
        "id": "xFlNiR5MFK6x",
        "colab": {
          "base_uri": "https://localhost:8080/"
        },
        "outputId": "16a15674-5ea1-4c0f-9343-3d2df6f81acf"
      },
      "execution_count": 9,
      "outputs": [
        {
          "output_type": "execute_result",
          "data": {
            "text/plain": [
              "48223.46226415094"
            ]
          },
          "metadata": {},
          "execution_count": 9
        }
      ]
    },
    {
      "cell_type": "markdown",
      "source": [
        "Create a dataframe called \"high_voters\" showing only the times where voter registration was higher than your above average. How many times did this happen? (3 points)\n"
      ],
      "metadata": {
        "id": "iUBplzXkpeIM"
      }
    },
    {
      "cell_type": "code",
      "source": [
        "# create new df with every row having higher than average votes\n",
        "# use len to see how many rows/spaces there are could also use count()\n",
        "high_voters = new_voter_df[new_voter_df[\"registered_voters\"] > avg_voter_reg.round()]\n",
        "len(high_voters)"
      ],
      "metadata": {
        "id": "bT8wyyt-FMvP",
        "colab": {
          "base_uri": "https://localhost:8080/"
        },
        "outputId": "ccdf296f-6745-4504-f80e-ef9078bc10f1"
      },
      "execution_count": 10,
      "outputs": [
        {
          "output_type": "execute_result",
          "data": {
            "text/plain": [
              "36"
            ]
          },
          "metadata": {},
          "execution_count": 10
        }
      ]
    },
    {
      "cell_type": "code",
      "source": [
        "high_voters.head(50)"
      ],
      "metadata": {
        "colab": {
          "base_uri": "https://localhost:8080/",
          "height": 1000
        },
        "id": "lKbFAy2F3Grr",
        "outputId": "6b127b72-98d1-4961-87c3-7676bfb35865"
      },
      "execution_count": null,
      "outputs": [
        {
          "output_type": "execute_result",
          "data": {
            "text/plain": [
              "              NAME  Year Month  registered_voters\n",
              "1          Arizona  2016   Feb              51155\n",
              "2          Arizona  2016   Mar              48614\n",
              "5          Arizona  2020   Feb              50853\n",
              "8       California  2016   Jan              87574\n",
              "9       California  2016   Feb             103377\n",
              "10      California  2016   Mar             174278\n",
              "11      California  2016   Apr             185478\n",
              "12      California  2020   Jan             151595\n",
              "13      California  2020   Feb             238281\n",
              "14      California  2020   Mar             176810\n",
              "42         Florida  2016   Jan              50231\n",
              "43         Florida  2016   Feb              87351\n",
              "44         Florida  2016   Mar              73627\n",
              "45         Florida  2016   Apr              52508\n",
              "46         Florida  2020   Jan              77466\n",
              "47         Florida  2020   Feb             109859\n",
              "48         Florida  2020   Mar              54872\n",
              "55         Georgia  2020   Feb              55386\n",
              "59        Illinois  2016   Feb              99674\n",
              "60        Illinois  2016   Mar              52782\n",
              "61        Illinois  2016   Apr              76098\n",
              "63        Illinois  2020   Feb              68455\n",
              "77  North Carolina  2016   Feb              84357\n",
              "78  North Carolina  2016   Mar              58272\n",
              "79  North Carolina  2016   Apr              73341\n",
              "81  North Carolina  2020   Jan             111990\n",
              "82  North Carolina  2020   Feb              54053\n",
              "83  North Carolina  2020   Mar              54807\n",
              "86           Texas  2016   Jan             132860\n",
              "87           Texas  2016   Feb             143795\n",
              "88           Texas  2016   Mar             170607\n",
              "89           Texas  2016   Apr             143199\n",
              "90           Texas  2016   May              91205\n",
              "91           Texas  2020   Jan             134559\n",
              "92           Texas  2020   Feb             130080\n",
              "93           Texas  2020   Mar             129424"
            ],
            "text/html": [
              "\n",
              "  <div id=\"df-2ec91cf9-a654-4884-b08b-8113ffe35205\" class=\"colab-df-container\">\n",
              "    <div>\n",
              "<style scoped>\n",
              "    .dataframe tbody tr th:only-of-type {\n",
              "        vertical-align: middle;\n",
              "    }\n",
              "\n",
              "    .dataframe tbody tr th {\n",
              "        vertical-align: top;\n",
              "    }\n",
              "\n",
              "    .dataframe thead th {\n",
              "        text-align: right;\n",
              "    }\n",
              "</style>\n",
              "<table border=\"1\" class=\"dataframe\">\n",
              "  <thead>\n",
              "    <tr style=\"text-align: right;\">\n",
              "      <th></th>\n",
              "      <th>NAME</th>\n",
              "      <th>Year</th>\n",
              "      <th>Month</th>\n",
              "      <th>registered_voters</th>\n",
              "    </tr>\n",
              "  </thead>\n",
              "  <tbody>\n",
              "    <tr>\n",
              "      <th>1</th>\n",
              "      <td>Arizona</td>\n",
              "      <td>2016</td>\n",
              "      <td>Feb</td>\n",
              "      <td>51155</td>\n",
              "    </tr>\n",
              "    <tr>\n",
              "      <th>2</th>\n",
              "      <td>Arizona</td>\n",
              "      <td>2016</td>\n",
              "      <td>Mar</td>\n",
              "      <td>48614</td>\n",
              "    </tr>\n",
              "    <tr>\n",
              "      <th>5</th>\n",
              "      <td>Arizona</td>\n",
              "      <td>2020</td>\n",
              "      <td>Feb</td>\n",
              "      <td>50853</td>\n",
              "    </tr>\n",
              "    <tr>\n",
              "      <th>8</th>\n",
              "      <td>California</td>\n",
              "      <td>2016</td>\n",
              "      <td>Jan</td>\n",
              "      <td>87574</td>\n",
              "    </tr>\n",
              "    <tr>\n",
              "      <th>9</th>\n",
              "      <td>California</td>\n",
              "      <td>2016</td>\n",
              "      <td>Feb</td>\n",
              "      <td>103377</td>\n",
              "    </tr>\n",
              "    <tr>\n",
              "      <th>10</th>\n",
              "      <td>California</td>\n",
              "      <td>2016</td>\n",
              "      <td>Mar</td>\n",
              "      <td>174278</td>\n",
              "    </tr>\n",
              "    <tr>\n",
              "      <th>11</th>\n",
              "      <td>California</td>\n",
              "      <td>2016</td>\n",
              "      <td>Apr</td>\n",
              "      <td>185478</td>\n",
              "    </tr>\n",
              "    <tr>\n",
              "      <th>12</th>\n",
              "      <td>California</td>\n",
              "      <td>2020</td>\n",
              "      <td>Jan</td>\n",
              "      <td>151595</td>\n",
              "    </tr>\n",
              "    <tr>\n",
              "      <th>13</th>\n",
              "      <td>California</td>\n",
              "      <td>2020</td>\n",
              "      <td>Feb</td>\n",
              "      <td>238281</td>\n",
              "    </tr>\n",
              "    <tr>\n",
              "      <th>14</th>\n",
              "      <td>California</td>\n",
              "      <td>2020</td>\n",
              "      <td>Mar</td>\n",
              "      <td>176810</td>\n",
              "    </tr>\n",
              "    <tr>\n",
              "      <th>42</th>\n",
              "      <td>Florida</td>\n",
              "      <td>2016</td>\n",
              "      <td>Jan</td>\n",
              "      <td>50231</td>\n",
              "    </tr>\n",
              "    <tr>\n",
              "      <th>43</th>\n",
              "      <td>Florida</td>\n",
              "      <td>2016</td>\n",
              "      <td>Feb</td>\n",
              "      <td>87351</td>\n",
              "    </tr>\n",
              "    <tr>\n",
              "      <th>44</th>\n",
              "      <td>Florida</td>\n",
              "      <td>2016</td>\n",
              "      <td>Mar</td>\n",
              "      <td>73627</td>\n",
              "    </tr>\n",
              "    <tr>\n",
              "      <th>45</th>\n",
              "      <td>Florida</td>\n",
              "      <td>2016</td>\n",
              "      <td>Apr</td>\n",
              "      <td>52508</td>\n",
              "    </tr>\n",
              "    <tr>\n",
              "      <th>46</th>\n",
              "      <td>Florida</td>\n",
              "      <td>2020</td>\n",
              "      <td>Jan</td>\n",
              "      <td>77466</td>\n",
              "    </tr>\n",
              "    <tr>\n",
              "      <th>47</th>\n",
              "      <td>Florida</td>\n",
              "      <td>2020</td>\n",
              "      <td>Feb</td>\n",
              "      <td>109859</td>\n",
              "    </tr>\n",
              "    <tr>\n",
              "      <th>48</th>\n",
              "      <td>Florida</td>\n",
              "      <td>2020</td>\n",
              "      <td>Mar</td>\n",
              "      <td>54872</td>\n",
              "    </tr>\n",
              "    <tr>\n",
              "      <th>55</th>\n",
              "      <td>Georgia</td>\n",
              "      <td>2020</td>\n",
              "      <td>Feb</td>\n",
              "      <td>55386</td>\n",
              "    </tr>\n",
              "    <tr>\n",
              "      <th>59</th>\n",
              "      <td>Illinois</td>\n",
              "      <td>2016</td>\n",
              "      <td>Feb</td>\n",
              "      <td>99674</td>\n",
              "    </tr>\n",
              "    <tr>\n",
              "      <th>60</th>\n",
              "      <td>Illinois</td>\n",
              "      <td>2016</td>\n",
              "      <td>Mar</td>\n",
              "      <td>52782</td>\n",
              "    </tr>\n",
              "    <tr>\n",
              "      <th>61</th>\n",
              "      <td>Illinois</td>\n",
              "      <td>2016</td>\n",
              "      <td>Apr</td>\n",
              "      <td>76098</td>\n",
              "    </tr>\n",
              "    <tr>\n",
              "      <th>63</th>\n",
              "      <td>Illinois</td>\n",
              "      <td>2020</td>\n",
              "      <td>Feb</td>\n",
              "      <td>68455</td>\n",
              "    </tr>\n",
              "    <tr>\n",
              "      <th>77</th>\n",
              "      <td>North Carolina</td>\n",
              "      <td>2016</td>\n",
              "      <td>Feb</td>\n",
              "      <td>84357</td>\n",
              "    </tr>\n",
              "    <tr>\n",
              "      <th>78</th>\n",
              "      <td>North Carolina</td>\n",
              "      <td>2016</td>\n",
              "      <td>Mar</td>\n",
              "      <td>58272</td>\n",
              "    </tr>\n",
              "    <tr>\n",
              "      <th>79</th>\n",
              "      <td>North Carolina</td>\n",
              "      <td>2016</td>\n",
              "      <td>Apr</td>\n",
              "      <td>73341</td>\n",
              "    </tr>\n",
              "    <tr>\n",
              "      <th>81</th>\n",
              "      <td>North Carolina</td>\n",
              "      <td>2020</td>\n",
              "      <td>Jan</td>\n",
              "      <td>111990</td>\n",
              "    </tr>\n",
              "    <tr>\n",
              "      <th>82</th>\n",
              "      <td>North Carolina</td>\n",
              "      <td>2020</td>\n",
              "      <td>Feb</td>\n",
              "      <td>54053</td>\n",
              "    </tr>\n",
              "    <tr>\n",
              "      <th>83</th>\n",
              "      <td>North Carolina</td>\n",
              "      <td>2020</td>\n",
              "      <td>Mar</td>\n",
              "      <td>54807</td>\n",
              "    </tr>\n",
              "    <tr>\n",
              "      <th>86</th>\n",
              "      <td>Texas</td>\n",
              "      <td>2016</td>\n",
              "      <td>Jan</td>\n",
              "      <td>132860</td>\n",
              "    </tr>\n",
              "    <tr>\n",
              "      <th>87</th>\n",
              "      <td>Texas</td>\n",
              "      <td>2016</td>\n",
              "      <td>Feb</td>\n",
              "      <td>143795</td>\n",
              "    </tr>\n",
              "    <tr>\n",
              "      <th>88</th>\n",
              "      <td>Texas</td>\n",
              "      <td>2016</td>\n",
              "      <td>Mar</td>\n",
              "      <td>170607</td>\n",
              "    </tr>\n",
              "    <tr>\n",
              "      <th>89</th>\n",
              "      <td>Texas</td>\n",
              "      <td>2016</td>\n",
              "      <td>Apr</td>\n",
              "      <td>143199</td>\n",
              "    </tr>\n",
              "    <tr>\n",
              "      <th>90</th>\n",
              "      <td>Texas</td>\n",
              "      <td>2016</td>\n",
              "      <td>May</td>\n",
              "      <td>91205</td>\n",
              "    </tr>\n",
              "    <tr>\n",
              "      <th>91</th>\n",
              "      <td>Texas</td>\n",
              "      <td>2020</td>\n",
              "      <td>Jan</td>\n",
              "      <td>134559</td>\n",
              "    </tr>\n",
              "    <tr>\n",
              "      <th>92</th>\n",
              "      <td>Texas</td>\n",
              "      <td>2020</td>\n",
              "      <td>Feb</td>\n",
              "      <td>130080</td>\n",
              "    </tr>\n",
              "    <tr>\n",
              "      <th>93</th>\n",
              "      <td>Texas</td>\n",
              "      <td>2020</td>\n",
              "      <td>Mar</td>\n",
              "      <td>129424</td>\n",
              "    </tr>\n",
              "  </tbody>\n",
              "</table>\n",
              "</div>\n",
              "    <div class=\"colab-df-buttons\">\n",
              "\n",
              "  <div class=\"colab-df-container\">\n",
              "    <button class=\"colab-df-convert\" onclick=\"convertToInteractive('df-2ec91cf9-a654-4884-b08b-8113ffe35205')\"\n",
              "            title=\"Convert this dataframe to an interactive table.\"\n",
              "            style=\"display:none;\">\n",
              "\n",
              "  <svg xmlns=\"http://www.w3.org/2000/svg\" height=\"24px\" viewBox=\"0 -960 960 960\">\n",
              "    <path d=\"M120-120v-720h720v720H120Zm60-500h600v-160H180v160Zm220 220h160v-160H400v160Zm0 220h160v-160H400v160ZM180-400h160v-160H180v160Zm440 0h160v-160H620v160ZM180-180h160v-160H180v160Zm440 0h160v-160H620v160Z\"/>\n",
              "  </svg>\n",
              "    </button>\n",
              "\n",
              "  <style>\n",
              "    .colab-df-container {\n",
              "      display:flex;\n",
              "      gap: 12px;\n",
              "    }\n",
              "\n",
              "    .colab-df-convert {\n",
              "      background-color: #E8F0FE;\n",
              "      border: none;\n",
              "      border-radius: 50%;\n",
              "      cursor: pointer;\n",
              "      display: none;\n",
              "      fill: #1967D2;\n",
              "      height: 32px;\n",
              "      padding: 0 0 0 0;\n",
              "      width: 32px;\n",
              "    }\n",
              "\n",
              "    .colab-df-convert:hover {\n",
              "      background-color: #E2EBFA;\n",
              "      box-shadow: 0px 1px 2px rgba(60, 64, 67, 0.3), 0px 1px 3px 1px rgba(60, 64, 67, 0.15);\n",
              "      fill: #174EA6;\n",
              "    }\n",
              "\n",
              "    .colab-df-buttons div {\n",
              "      margin-bottom: 4px;\n",
              "    }\n",
              "\n",
              "    [theme=dark] .colab-df-convert {\n",
              "      background-color: #3B4455;\n",
              "      fill: #D2E3FC;\n",
              "    }\n",
              "\n",
              "    [theme=dark] .colab-df-convert:hover {\n",
              "      background-color: #434B5C;\n",
              "      box-shadow: 0px 1px 3px 1px rgba(0, 0, 0, 0.15);\n",
              "      filter: drop-shadow(0px 1px 2px rgba(0, 0, 0, 0.3));\n",
              "      fill: #FFFFFF;\n",
              "    }\n",
              "  </style>\n",
              "\n",
              "    <script>\n",
              "      const buttonEl =\n",
              "        document.querySelector('#df-2ec91cf9-a654-4884-b08b-8113ffe35205 button.colab-df-convert');\n",
              "      buttonEl.style.display =\n",
              "        google.colab.kernel.accessAllowed ? 'block' : 'none';\n",
              "\n",
              "      async function convertToInteractive(key) {\n",
              "        const element = document.querySelector('#df-2ec91cf9-a654-4884-b08b-8113ffe35205');\n",
              "        const dataTable =\n",
              "          await google.colab.kernel.invokeFunction('convertToInteractive',\n",
              "                                                    [key], {});\n",
              "        if (!dataTable) return;\n",
              "\n",
              "        const docLinkHtml = 'Like what you see? Visit the ' +\n",
              "          '<a target=\"_blank\" href=https://colab.research.google.com/notebooks/data_table.ipynb>data table notebook</a>'\n",
              "          + ' to learn more about interactive tables.';\n",
              "        element.innerHTML = '';\n",
              "        dataTable['output_type'] = 'display_data';\n",
              "        await google.colab.output.renderOutput(dataTable, element);\n",
              "        const docLink = document.createElement('div');\n",
              "        docLink.innerHTML = docLinkHtml;\n",
              "        element.appendChild(docLink);\n",
              "      }\n",
              "    </script>\n",
              "  </div>\n",
              "\n",
              "\n",
              "<div id=\"df-283a3ded-1be1-433c-bfd2-b73609f7866f\">\n",
              "  <button class=\"colab-df-quickchart\" onclick=\"quickchart('df-283a3ded-1be1-433c-bfd2-b73609f7866f')\"\n",
              "            title=\"Suggest charts\"\n",
              "            style=\"display:none;\">\n",
              "\n",
              "<svg xmlns=\"http://www.w3.org/2000/svg\" height=\"24px\"viewBox=\"0 0 24 24\"\n",
              "     width=\"24px\">\n",
              "    <g>\n",
              "        <path d=\"M19 3H5c-1.1 0-2 .9-2 2v14c0 1.1.9 2 2 2h14c1.1 0 2-.9 2-2V5c0-1.1-.9-2-2-2zM9 17H7v-7h2v7zm4 0h-2V7h2v10zm4 0h-2v-4h2v4z\"/>\n",
              "    </g>\n",
              "</svg>\n",
              "  </button>\n",
              "\n",
              "<style>\n",
              "  .colab-df-quickchart {\n",
              "      --bg-color: #E8F0FE;\n",
              "      --fill-color: #1967D2;\n",
              "      --hover-bg-color: #E2EBFA;\n",
              "      --hover-fill-color: #174EA6;\n",
              "      --disabled-fill-color: #AAA;\n",
              "      --disabled-bg-color: #DDD;\n",
              "  }\n",
              "\n",
              "  [theme=dark] .colab-df-quickchart {\n",
              "      --bg-color: #3B4455;\n",
              "      --fill-color: #D2E3FC;\n",
              "      --hover-bg-color: #434B5C;\n",
              "      --hover-fill-color: #FFFFFF;\n",
              "      --disabled-bg-color: #3B4455;\n",
              "      --disabled-fill-color: #666;\n",
              "  }\n",
              "\n",
              "  .colab-df-quickchart {\n",
              "    background-color: var(--bg-color);\n",
              "    border: none;\n",
              "    border-radius: 50%;\n",
              "    cursor: pointer;\n",
              "    display: none;\n",
              "    fill: var(--fill-color);\n",
              "    height: 32px;\n",
              "    padding: 0;\n",
              "    width: 32px;\n",
              "  }\n",
              "\n",
              "  .colab-df-quickchart:hover {\n",
              "    background-color: var(--hover-bg-color);\n",
              "    box-shadow: 0 1px 2px rgba(60, 64, 67, 0.3), 0 1px 3px 1px rgba(60, 64, 67, 0.15);\n",
              "    fill: var(--button-hover-fill-color);\n",
              "  }\n",
              "\n",
              "  .colab-df-quickchart-complete:disabled,\n",
              "  .colab-df-quickchart-complete:disabled:hover {\n",
              "    background-color: var(--disabled-bg-color);\n",
              "    fill: var(--disabled-fill-color);\n",
              "    box-shadow: none;\n",
              "  }\n",
              "\n",
              "  .colab-df-spinner {\n",
              "    border: 2px solid var(--fill-color);\n",
              "    border-color: transparent;\n",
              "    border-bottom-color: var(--fill-color);\n",
              "    animation:\n",
              "      spin 1s steps(1) infinite;\n",
              "  }\n",
              "\n",
              "  @keyframes spin {\n",
              "    0% {\n",
              "      border-color: transparent;\n",
              "      border-bottom-color: var(--fill-color);\n",
              "      border-left-color: var(--fill-color);\n",
              "    }\n",
              "    20% {\n",
              "      border-color: transparent;\n",
              "      border-left-color: var(--fill-color);\n",
              "      border-top-color: var(--fill-color);\n",
              "    }\n",
              "    30% {\n",
              "      border-color: transparent;\n",
              "      border-left-color: var(--fill-color);\n",
              "      border-top-color: var(--fill-color);\n",
              "      border-right-color: var(--fill-color);\n",
              "    }\n",
              "    40% {\n",
              "      border-color: transparent;\n",
              "      border-right-color: var(--fill-color);\n",
              "      border-top-color: var(--fill-color);\n",
              "    }\n",
              "    60% {\n",
              "      border-color: transparent;\n",
              "      border-right-color: var(--fill-color);\n",
              "    }\n",
              "    80% {\n",
              "      border-color: transparent;\n",
              "      border-right-color: var(--fill-color);\n",
              "      border-bottom-color: var(--fill-color);\n",
              "    }\n",
              "    90% {\n",
              "      border-color: transparent;\n",
              "      border-bottom-color: var(--fill-color);\n",
              "    }\n",
              "  }\n",
              "</style>\n",
              "\n",
              "  <script>\n",
              "    async function quickchart(key) {\n",
              "      const quickchartButtonEl =\n",
              "        document.querySelector('#' + key + ' button');\n",
              "      quickchartButtonEl.disabled = true;  // To prevent multiple clicks.\n",
              "      quickchartButtonEl.classList.add('colab-df-spinner');\n",
              "      try {\n",
              "        const charts = await google.colab.kernel.invokeFunction(\n",
              "            'suggestCharts', [key], {});\n",
              "      } catch (error) {\n",
              "        console.error('Error during call to suggestCharts:', error);\n",
              "      }\n",
              "      quickchartButtonEl.classList.remove('colab-df-spinner');\n",
              "      quickchartButtonEl.classList.add('colab-df-quickchart-complete');\n",
              "    }\n",
              "    (() => {\n",
              "      let quickchartButtonEl =\n",
              "        document.querySelector('#df-283a3ded-1be1-433c-bfd2-b73609f7866f button');\n",
              "      quickchartButtonEl.style.display =\n",
              "        google.colab.kernel.accessAllowed ? 'block' : 'none';\n",
              "    })();\n",
              "  </script>\n",
              "</div>\n",
              "\n",
              "    </div>\n",
              "  </div>\n"
            ],
            "application/vnd.google.colaboratory.intrinsic+json": {
              "type": "dataframe",
              "variable_name": "high_voters",
              "summary": "{\n  \"name\": \"high_voters\",\n  \"rows\": 36,\n  \"fields\": [\n    {\n      \"column\": \"NAME\",\n      \"properties\": {\n        \"dtype\": \"category\",\n        \"num_unique_values\": 7,\n        \"samples\": [\n          \"Arizona\",\n          \"California\",\n          \"North Carolina\"\n        ],\n        \"semantic_type\": \"\",\n        \"description\": \"\"\n      }\n    },\n    {\n      \"column\": \"Year\",\n      \"properties\": {\n        \"dtype\": \"number\",\n        \"std\": 1,\n        \"min\": 2016,\n        \"max\": 2020,\n        \"num_unique_values\": 2,\n        \"samples\": [\n          2020,\n          2016\n        ],\n        \"semantic_type\": \"\",\n        \"description\": \"\"\n      }\n    },\n    {\n      \"column\": \"Month\",\n      \"properties\": {\n        \"dtype\": \"category\",\n        \"num_unique_values\": 5,\n        \"samples\": [\n          \"Mar\",\n          \"May\"\n        ],\n        \"semantic_type\": \"\",\n        \"description\": \"\"\n      }\n    },\n    {\n      \"column\": \"registered_voters\",\n      \"properties\": {\n        \"dtype\": \"number\",\n        \"std\": 48395,\n        \"min\": 48614,\n        \"max\": 238281,\n        \"num_unique_values\": 36,\n        \"samples\": [\n          129424,\n          52508\n        ],\n        \"semantic_type\": \"\",\n        \"description\": \"\"\n      }\n    }\n  ]\n}"
            }
          },
          "metadata": {},
          "execution_count": 10
        }
      ]
    },
    {
      "cell_type": "markdown",
      "source": [
        "How many times did each state go above the national average for new voter registration? (2 points)\n",
        "\n"
      ],
      "metadata": {
        "id": "skpwgqXwp8wA"
      }
    },
    {
      "cell_type": "code",
      "source": [
        "# use groupby() to group by the name of the state and size() to find # of occurrences\n",
        "high_voters.groupby(\"NAME\").size().sort_values(ascending = False)"
      ],
      "metadata": {
        "id": "-ErvpKDRFOLQ",
        "colab": {
          "base_uri": "https://localhost:8080/",
          "height": 335
        },
        "outputId": "111621bc-43f2-4aec-b3d8-8b0ce7ea5637"
      },
      "execution_count": 11,
      "outputs": [
        {
          "output_type": "execute_result",
          "data": {
            "text/plain": [
              "NAME\n",
              "Texas             8\n",
              "California        7\n",
              "Florida           7\n",
              "North Carolina    6\n",
              "Illinois          4\n",
              "Arizona           3\n",
              "Georgia           1\n",
              "dtype: int64"
            ],
            "text/html": [
              "<div>\n",
              "<style scoped>\n",
              "    .dataframe tbody tr th:only-of-type {\n",
              "        vertical-align: middle;\n",
              "    }\n",
              "\n",
              "    .dataframe tbody tr th {\n",
              "        vertical-align: top;\n",
              "    }\n",
              "\n",
              "    .dataframe thead th {\n",
              "        text-align: right;\n",
              "    }\n",
              "</style>\n",
              "<table border=\"1\" class=\"dataframe\">\n",
              "  <thead>\n",
              "    <tr style=\"text-align: right;\">\n",
              "      <th></th>\n",
              "      <th>0</th>\n",
              "    </tr>\n",
              "    <tr>\n",
              "      <th>NAME</th>\n",
              "      <th></th>\n",
              "    </tr>\n",
              "  </thead>\n",
              "  <tbody>\n",
              "    <tr>\n",
              "      <th>Texas</th>\n",
              "      <td>8</td>\n",
              "    </tr>\n",
              "    <tr>\n",
              "      <th>California</th>\n",
              "      <td>7</td>\n",
              "    </tr>\n",
              "    <tr>\n",
              "      <th>Florida</th>\n",
              "      <td>7</td>\n",
              "    </tr>\n",
              "    <tr>\n",
              "      <th>North Carolina</th>\n",
              "      <td>6</td>\n",
              "    </tr>\n",
              "    <tr>\n",
              "      <th>Illinois</th>\n",
              "      <td>4</td>\n",
              "    </tr>\n",
              "    <tr>\n",
              "      <th>Arizona</th>\n",
              "      <td>3</td>\n",
              "    </tr>\n",
              "    <tr>\n",
              "      <th>Georgia</th>\n",
              "      <td>1</td>\n",
              "    </tr>\n",
              "  </tbody>\n",
              "</table>\n",
              "</div><br><label><b>dtype:</b> int64</label>"
            ]
          },
          "metadata": {},
          "execution_count": 11
        }
      ]
    },
    {
      "cell_type": "markdown",
      "source": [
        "Which three states had the highest average voter registration overall? Show only the top three results. (5 points)"
      ],
      "metadata": {
        "id": "dGJ6ev0ihoek"
      }
    },
    {
      "cell_type": "code",
      "source": [
        "# make a variable of the previous answer, then put 3 inside .head()\n",
        "# to only show the top 3\n",
        "top_three_states = high_voters.groupby(\"NAME\").size().sort_values(ascending = False)\n",
        "top_three_states.head(3)"
      ],
      "metadata": {
        "id": "xus18i6nFPFE",
        "colab": {
          "base_uri": "https://localhost:8080/",
          "height": 210
        },
        "outputId": "70cdd2e3-6fa0-4280-ed85-bc0908ab391a"
      },
      "execution_count": 12,
      "outputs": [
        {
          "output_type": "execute_result",
          "data": {
            "text/plain": [
              "NAME\n",
              "Texas         8\n",
              "California    7\n",
              "Florida       7\n",
              "dtype: int64"
            ],
            "text/html": [
              "<div>\n",
              "<style scoped>\n",
              "    .dataframe tbody tr th:only-of-type {\n",
              "        vertical-align: middle;\n",
              "    }\n",
              "\n",
              "    .dataframe tbody tr th {\n",
              "        vertical-align: top;\n",
              "    }\n",
              "\n",
              "    .dataframe thead th {\n",
              "        text-align: right;\n",
              "    }\n",
              "</style>\n",
              "<table border=\"1\" class=\"dataframe\">\n",
              "  <thead>\n",
              "    <tr style=\"text-align: right;\">\n",
              "      <th></th>\n",
              "      <th>0</th>\n",
              "    </tr>\n",
              "    <tr>\n",
              "      <th>NAME</th>\n",
              "      <th></th>\n",
              "    </tr>\n",
              "  </thead>\n",
              "  <tbody>\n",
              "    <tr>\n",
              "      <th>Texas</th>\n",
              "      <td>8</td>\n",
              "    </tr>\n",
              "    <tr>\n",
              "      <th>California</th>\n",
              "      <td>7</td>\n",
              "    </tr>\n",
              "    <tr>\n",
              "      <th>Florida</th>\n",
              "      <td>7</td>\n",
              "    </tr>\n",
              "  </tbody>\n",
              "</table>\n",
              "</div><br><label><b>dtype:</b> int64</label>"
            ]
          },
          "metadata": {},
          "execution_count": 12
        }
      ]
    },
    {
      "cell_type": "markdown",
      "source": [
        "##Data Visualization (30 points, as marked)"
      ],
      "metadata": {
        "id": "yZtT1NZmqaDY"
      }
    },
    {
      "cell_type": "markdown",
      "source": [
        "Create a plot showing the voter registratation by state.\n",
        "* A dataframe/a way to show the total voters registered per state. If you create a new dataframe, you may need to include `reset_index()`.(3 points)\n",
        "* A figure size of 10,10 (1 point)\n",
        "* Clearly legible labels and titles (2 points)\n",
        "* A color palette that is not the default palette (1 point)\n",
        "* Comment on the trends you see (2 points)\n",
        "\n",
        "\n",
        "(9 points total)"
      ],
      "metadata": {
        "id": "sWvV4xo44kAm"
      }
    },
    {
      "cell_type": "code",
      "source": [
        "plt.figure(figsize=(10, 10))\n",
        "plt.bar(new_voter_df[\"NAME\"], new_voter_df[\"registered_voters\"],color=\"lightblue\")\n",
        "\n",
        "plt.xlabel(\"State\")\n",
        "plt.ylabel(\"Registered Voters\")\n",
        "plt.title(\"Voter Registration Based on State\")\n",
        "plt.xticks(rotation=75)\n",
        "plt.yticks()\n",
        "\n",
        "\n",
        "plt.show()\n"
      ],
      "metadata": {
        "id": "ZUHIW_YaFR3c",
        "colab": {
          "base_uri": "https://localhost:8080/",
          "height": 793
        },
        "outputId": "2f67f579-8c31-43ca-c2c7-10ee2c45bd68"
      },
      "execution_count": 39,
      "outputs": [
        {
          "output_type": "display_data",
          "data": {
            "text/plain": [
              "<Figure size 1000x1000 with 1 Axes>"
            ],
            "image/png": "[encoded data removed]"
          },
          "metadata": {}
        }
      ]
    },
    {
      "cell_type": "markdown",
      "source": [
        "It looks like as if more populated states tend to have the highest voter registration numbers and less populated states generally have smaller populations. The same could be said for physically larger states as they generally have higher voter registration. California and Texas have the highest voter registration and they are two of the three largest states. Alaska is the largest but it may have been conveniently left out as its population is not very high."
      ],
      "metadata": {
        "id": "ohamj_JZrWcO"
      }
    },
    {
      "cell_type": "markdown",
      "source": [
        "Produce a plot comparing voter registation in 2016 and 2020. (2 pts)\n",
        "* Color the graph based on the month.(1 pt)\n",
        "* Change the default color palette used. (1 pt)\n",
        "* Comment on any trends you see. (2 pts)\n",
        "* Add the appropriate labels and title (1)\n",
        "* Comment on any trends you see (2 points)\n",
        "\n",
        "(9 pts total)"
      ],
      "metadata": {
        "id": "RNpnadEWq5fu"
      }
    },
    {
      "cell_type": "code",
      "source": [
        "# Group the data together using groupby and resetindex make new variable\n",
        "# Divide data by year for 2016 and 2020\n",
        "grouped = new_voter_df.groupby([\"Year\", \"Month\"])[\"registered_voters\"].sum().reset_index()\n",
        "data_2016_2020 = grouped[grouped[\"Year\"].isin([2016, 2020])]\n",
        "\n",
        "# Remove Error Bar\n",
        "sns.barplot(x=\"Month\", y=\"registered_voters\", hue=\"Year\", dodge=True,\n",
        "            data=data_2016_2020, palette=\"pastel\", alpha=0.8, errorbar=None)\n",
        "\n",
        "\n",
        "plt.xlabel(\"Month\")\n",
        "plt.ylabel(\"Registered Voters\")\n",
        "plt.title(\"Voter Registration in 2016 & 2020\")\n",
        "\n",
        "\n",
        "plt.show()"
      ],
      "metadata": {
        "id": "VMPnqr_-FTqZ",
        "colab": {
          "base_uri": "https://localhost:8080/",
          "height": 472
        },
        "outputId": "c2970a04-afa9-4015-c7e5-007b838167c6"
      },
      "execution_count": 32,
      "outputs": [
        {
          "output_type": "display_data",
          "data": {
            "text/plain": [
              "<Figure size 640x480 with 1 Axes>"
            ],
            "image/png": "[encoded data removed]"
          },
          "metadata": {}
        }
      ]
    },
    {
      "cell_type": "markdown",
      "source": [
        "In 2020, in month order the number of registered voters decrease from January to May. January in 2016 is very low in comparison to 2020 and it increases by month until may where it drops very low. Both 2020 and 2016 data for May is much lower than the rest of the chart."
      ],
      "metadata": {
        "id": "T5EwE-BZEpW1"
      }
    },
    {
      "cell_type": "markdown",
      "source": [
        "Create a data visualization that relates to either your state level research question or your national level reserach question. If one of your questions was answered by the above graphs, you may not use that question. (12 points)"
      ],
      "metadata": {
        "id": "SbGMnC5XqqoK"
      }
    },
    {
      "cell_type": "code",
      "source": [
        "arizona_data = new_voter_df[new_voter_df[\"NAME\"] == \"Arizona\"]\n",
        "arizona_data[\"Month\"] = arizona_data[\"Month\"].astype(str)\n",
        "\n",
        "plt.figure()\n",
        "plt.bar(arizona_data[\"Month\"], arizona_data[\"registered_voters\"], color=\"lightblue\")\n",
        "\n",
        "plt.xlabel(\"Month\")\n",
        "plt.ylabel(\"Registered Voters\")\n",
        "plt.title(\"New Registered Voters in Arizona\")\n",
        "plt.xticks(rotation=75)\n",
        "plt.grid(axis=\"y\", alpha=0.7)"
      ],
      "metadata": {
        "id": "tb0lz5Aky5At",
        "colab": {
          "base_uri": "https://localhost:8080/",
          "height": 614
        },
        "outputId": "d1bd705f-be9f-4a77-fbbf-e23d60e5bd70"
      },
      "execution_count": 45,
      "outputs": [
        {
          "output_type": "stream",
          "name": "stderr",
          "text": [
            "<ipython-input-45-6093b98ab88d>:2: SettingWithCopyWarning: \n",
            "A value is trying to be set on a copy of a slice from a DataFrame.\n",
            "Try using .loc[row_indexer,col_indexer] = value instead\n",
            "\n",
            "See the caveats in the documentation: https://pandas.pydata.org/pandas-docs/stable/user_guide/indexing.html#returning-a-view-versus-a-copy\n",
            "  arizona_data[\"Month\"] = arizona_data[\"Month\"].astype(str)\n"
          ]
        },
        {
          "output_type": "display_data",
          "data": {
            "text/plain": [
              "<Figure size 640x480 with 1 Axes>"
            ],
            "image/png": "[encoded data removed]"
          },
          "metadata": {}
        }
      ]
    },
    {
      "cell_type": "markdown",
      "source": [
        "Most people in Arizona register to vote in the months of February and March. Less people do so in January and April. Compared to other states in the first graph, less people register to vote in Arizona compared to the other states with the exception of Delaware, DC, Maryland, and Virginia"
      ],
      "metadata": {
        "id": "UZgk4o-iKbEx"
      }
    },
    {
      "cell_type": "markdown",
      "source": [
        "##Mapping (14 points as noted)\n",
        "\n",
        "Load in our shape file data from the mapping unit."
      ],
      "metadata": {
        "id": "1d2JJW9lu1zz"
      }
    },
    {
      "cell_type": "code",
      "source": [
        "# Loading in data via mapping unit\n",
        "!git clone https://github.com/SFord87/325-Datasets\n",
        "shapefile = '/content/325-Datasets/cb_2018_us_state_500k.shp'\n",
        "\n",
        "states = gpd.read_file(shapefile)"
      ],
      "metadata": {
        "id": "He5W6DLOFVud",
        "colab": {
          "base_uri": "https://localhost:8080/"
        },
        "outputId": "e85d7a6f-51cb-4b1b-f2eb-5b4dcea7451f"
      },
      "execution_count": 16,
      "outputs": [
        {
          "output_type": "stream",
          "name": "stdout",
          "text": [
            "fatal: destination path '325-Datasets' already exists and is not an empty directory.\n"
          ]
        }
      ]
    },
    {
      "cell_type": "code",
      "source": [
        "states.head()"
      ],
      "metadata": {
        "colab": {
          "base_uri": "https://localhost:8080/",
          "height": 521
        },
        "id": "YVq7m5D98M2X",
        "outputId": "970da25c-f8e7-4ff9-bbc2-8e3ec1249740"
      },
      "execution_count": 17,
      "outputs": [
        {
          "output_type": "execute_result",
          "data": {
            "text/plain": [
              "  STATEFP   STATENS     AFFGEOID GEOID STUSPS            NAME LSAD  \\\n",
              "0      28  01779790  0400000US28    28     MS     Mississippi   00   \n",
              "1      37  01027616  0400000US37    37     NC  North Carolina   00   \n",
              "2      40  01102857  0400000US40    40     OK        Oklahoma   00   \n",
              "3      51  01779803  0400000US51    51     VA        Virginia   00   \n",
              "4      54  01779805  0400000US54    54     WV   West Virginia   00   \n",
              "\n",
              "          ALAND       AWATER  \\\n",
              "0  121533519481   3926919758   \n",
              "1  125923656064  13466071395   \n",
              "2  177662925723   3374587997   \n",
              "3  102257717110   8528531774   \n",
              "4   62266474513    489028543   \n",
              "\n",
              "                                            geometry  \n",
              "0  MULTIPOLYGON (((-88.50297 30.21524, -88.49176 ...  \n",
              "1  MULTIPOLYGON (((-75.72681 35.93584, -75.71827 ...  \n",
              "2  POLYGON ((-103.00256 36.52659, -103.00219 36.6...  \n",
              "3  MULTIPOLYGON (((-75.74241 37.80835, -75.74151 ...  \n",
              "4  POLYGON ((-82.6432 38.16909, -82.643 38.16956,...  "
            ],
            "text/html": [
              "\n",
              "  <div id=\"df-dc5731f0-a316-4e8f-a556-0432d539c771\" class=\"colab-df-container\">\n",
              "    <div>\n",
              "<style scoped>\n",
              "    .dataframe tbody tr th:only-of-type {\n",
              "        vertical-align: middle;\n",
              "    }\n",
              "\n",
              "    .dataframe tbody tr th {\n",
              "        vertical-align: top;\n",
              "    }\n",
              "\n",
              "    .dataframe thead th {\n",
              "        text-align: right;\n",
              "    }\n",
              "</style>\n",
              "<table border=\"1\" class=\"dataframe\">\n",
              "  <thead>\n",
              "    <tr style=\"text-align: right;\">\n",
              "      <th></th>\n",
              "      <th>STATEFP</th>\n",
              "      <th>STATENS</th>\n",
              "      <th>AFFGEOID</th>\n",
              "      <th>GEOID</th>\n",
              "      <th>STUSPS</th>\n",
              "      <th>NAME</th>\n",
              "      <th>LSAD</th>\n",
              "      <th>ALAND</th>\n",
              "      <th>AWATER</th>\n",
              "      <th>geometry</th>\n",
              "    </tr>\n",
              "  </thead>\n",
              "  <tbody>\n",
              "    <tr>\n",
              "      <th>0</th>\n",
              "      <td>28</td>\n",
              "      <td>01779790</td>\n",
              "      <td>0400000US28</td>\n",
              "      <td>28</td>\n",
              "      <td>MS</td>\n",
              "      <td>Mississippi</td>\n",
              "      <td>00</td>\n",
              "      <td>121533519481</td>\n",
              "      <td>3926919758</td>\n",
              "      <td>MULTIPOLYGON (((-88.50297 30.21524, -88.49176 ...</td>\n",
              "    </tr>\n",
              "    <tr>\n",
              "      <th>1</th>\n",
              "      <td>37</td>\n",
              "      <td>01027616</td>\n",
              "      <td>0400000US37</td>\n",
              "      <td>37</td>\n",
              "      <td>NC</td>\n",
              "      <td>North Carolina</td>\n",
              "      <td>00</td>\n",
              "      <td>125923656064</td>\n",
              "      <td>13466071395</td>\n",
              "      <td>MULTIPOLYGON (((-75.72681 35.93584, -75.71827 ...</td>\n",
              "    </tr>\n",
              "    <tr>\n",
              "      <th>2</th>\n",
              "      <td>40</td>\n",
              "      <td>01102857</td>\n",
              "      <td>0400000US40</td>\n",
              "      <td>40</td>\n",
              "      <td>OK</td>\n",
              "      <td>Oklahoma</td>\n",
              "      <td>00</td>\n",
              "      <td>177662925723</td>\n",
              "      <td>3374587997</td>\n",
              "      <td>POLYGON ((-103.00256 36.52659, -103.00219 36.6...</td>\n",
              "    </tr>\n",
              "    <tr>\n",
              "      <th>3</th>\n",
              "      <td>51</td>\n",
              "      <td>01779803</td>\n",
              "      <td>0400000US51</td>\n",
              "      <td>51</td>\n",
              "      <td>VA</td>\n",
              "      <td>Virginia</td>\n",
              "      <td>00</td>\n",
              "      <td>102257717110</td>\n",
              "      <td>8528531774</td>\n",
              "      <td>MULTIPOLYGON (((-75.74241 37.80835, -75.74151 ...</td>\n",
              "    </tr>\n",
              "    <tr>\n",
              "      <th>4</th>\n",
              "      <td>54</td>\n",
              "      <td>01779805</td>\n",
              "      <td>0400000US54</td>\n",
              "      <td>54</td>\n",
              "      <td>WV</td>\n",
              "      <td>West Virginia</td>\n",
              "      <td>00</td>\n",
              "      <td>62266474513</td>\n",
              "      <td>489028543</td>\n",
              "      <td>POLYGON ((-82.6432 38.16909, -82.643 38.16956,...</td>\n",
              "    </tr>\n",
              "  </tbody>\n",
              "</table>\n",
              "</div>\n",
              "    <div class=\"colab-df-buttons\">\n",
              "\n",
              "  <div class=\"colab-df-container\">\n",
              "    <button class=\"colab-df-convert\" onclick=\"convertToInteractive('df-dc5731f0-a316-4e8f-a556-0432d539c771')\"\n",
              "            title=\"Convert this dataframe to an interactive table.\"\n",
              "            style=\"display:none;\">\n",
              "\n",
              "  <svg xmlns=\"http://www.w3.org/2000/svg\" height=\"24px\" viewBox=\"0 -960 960 960\">\n",
              "    <path d=\"M120-120v-720h720v720H120Zm60-500h600v-160H180v160Zm220 220h160v-160H400v160Zm0 220h160v-160H400v160ZM180-400h160v-160H180v160Zm440 0h160v-160H620v160ZM180-180h160v-160H180v160Zm440 0h160v-160H620v160Z\"/>\n",
              "  </svg>\n",
              "    </button>\n",
              "\n",
              "  <style>\n",
              "    .colab-df-container {\n",
              "      display:flex;\n",
              "      gap: 12px;\n",
              "    }\n",
              "\n",
              "    .colab-df-convert {\n",
              "      background-color: #E8F0FE;\n",
              "      border: none;\n",
              "      border-radius: 50%;\n",
              "      cursor: pointer;\n",
              "      display: none;\n",
              "      fill: #1967D2;\n",
              "      height: 32px;\n",
              "      padding: 0 0 0 0;\n",
              "      width: 32px;\n",
              "    }\n",
              "\n",
              "    .colab-df-convert:hover {\n",
              "      background-color: #E2EBFA;\n",
              "      box-shadow: 0px 1px 2px rgba(60, 64, 67, 0.3), 0px 1px 3px 1px rgba(60, 64, 67, 0.15);\n",
              "      fill: #174EA6;\n",
              "    }\n",
              "\n",
              "    .colab-df-buttons div {\n",
              "      margin-bottom: 4px;\n",
              "    }\n",
              "\n",
              "    [theme=dark] .colab-df-convert {\n",
              "      background-color: #3B4455;\n",
              "      fill: #D2E3FC;\n",
              "    }\n",
              "\n",
              "    [theme=dark] .colab-df-convert:hover {\n",
              "      background-color: #434B5C;\n",
              "      box-shadow: 0px 1px 3px 1px rgba(0, 0, 0, 0.15);\n",
              "      filter: drop-shadow(0px 1px 2px rgba(0, 0, 0, 0.3));\n",
              "      fill: #FFFFFF;\n",
              "    }\n",
              "  </style>\n",
              "\n",
              "    <script>\n",
              "      const buttonEl =\n",
              "        document.querySelector('#df-dc5731f0-a316-4e8f-a556-0432d539c771 button.colab-df-convert');\n",
              "      buttonEl.style.display =\n",
              "        google.colab.kernel.accessAllowed ? 'block' : 'none';\n",
              "\n",
              "      async function convertToInteractive(key) {\n",
              "        const element = document.querySelector('#df-dc5731f0-a316-4e8f-a556-0432d539c771');\n",
              "        const dataTable =\n",
              "          await google.colab.kernel.invokeFunction('convertToInteractive',\n",
              "                                                    [key], {});\n",
              "        if (!dataTable) return;\n",
              "\n",
              "        const docLinkHtml = 'Like what you see? Visit the ' +\n",
              "          '<a target=\"_blank\" href=https://colab.research.google.com/notebooks/data_table.ipynb>data table notebook</a>'\n",
              "          + ' to learn more about interactive tables.';\n",
              "        element.innerHTML = '';\n",
              "        dataTable['output_type'] = 'display_data';\n",
              "        await google.colab.output.renderOutput(dataTable, element);\n",
              "        const docLink = document.createElement('div');\n",
              "        docLink.innerHTML = docLinkHtml;\n",
              "        element.appendChild(docLink);\n",
              "      }\n",
              "    </script>\n",
              "  </div>\n",
              "\n",
              "\n",
              "<div id=\"df-7934ecbb-1714-4310-b2ff-05a9753e57d2\">\n",
              "  <button class=\"colab-df-quickchart\" onclick=\"quickchart('df-7934ecbb-1714-4310-b2ff-05a9753e57d2')\"\n",
              "            title=\"Suggest charts\"\n",
              "            style=\"display:none;\">\n",
              "\n",
              "<svg xmlns=\"http://www.w3.org/2000/svg\" height=\"24px\"viewBox=\"0 0 24 24\"\n",
              "     width=\"24px\">\n",
              "    <g>\n",
              "        <path d=\"M19 3H5c-1.1 0-2 .9-2 2v14c0 1.1.9 2 2 2h14c1.1 0 2-.9 2-2V5c0-1.1-.9-2-2-2zM9 17H7v-7h2v7zm4 0h-2V7h2v10zm4 0h-2v-4h2v4z\"/>\n",
              "    </g>\n",
              "</svg>\n",
              "  </button>\n",
              "\n",
              "<style>\n",
              "  .colab-df-quickchart {\n",
              "      --bg-color: #E8F0FE;\n",
              "      --fill-color: #1967D2;\n",
              "      --hover-bg-color: #E2EBFA;\n",
              "      --hover-fill-color: #174EA6;\n",
              "      --disabled-fill-color: #AAA;\n",
              "      --disabled-bg-color: #DDD;\n",
              "  }\n",
              "\n",
              "  [theme=dark] .colab-df-quickchart {\n",
              "      --bg-color: #3B4455;\n",
              "      --fill-color: #D2E3FC;\n",
              "      --hover-bg-color: #434B5C;\n",
              "      --hover-fill-color: #FFFFFF;\n",
              "      --disabled-bg-color: #3B4455;\n",
              "      --disabled-fill-color: #666;\n",
              "  }\n",
              "\n",
              "  .colab-df-quickchart {\n",
              "    background-color: var(--bg-color);\n",
              "    border: none;\n",
              "    border-radius: 50%;\n",
              "    cursor: pointer;\n",
              "    display: none;\n",
              "    fill: var(--fill-color);\n",
              "    height: 32px;\n",
              "    padding: 0;\n",
              "    width: 32px;\n",
              "  }\n",
              "\n",
              "  .colab-df-quickchart:hover {\n",
              "    background-color: var(--hover-bg-color);\n",
              "    box-shadow: 0 1px 2px rgba(60, 64, 67, 0.3), 0 1px 3px 1px rgba(60, 64, 67, 0.15);\n",
              "    fill: var(--button-hover-fill-color);\n",
              "  }\n",
              "\n",
              "  .colab-df-quickchart-complete:disabled,\n",
              "  .colab-df-quickchart-complete:disabled:hover {\n",
              "    background-color: var(--disabled-bg-color);\n",
              "    fill: var(--disabled-fill-color);\n",
              "    box-shadow: none;\n",
              "  }\n",
              "\n",
              "  .colab-df-spinner {\n",
              "    border: 2px solid var(--fill-color);\n",
              "    border-color: transparent;\n",
              "    border-bottom-color: var(--fill-color);\n",
              "    animation:\n",
              "      spin 1s steps(1) infinite;\n",
              "  }\n",
              "\n",
              "  @keyframes spin {\n",
              "    0% {\n",
              "      border-color: transparent;\n",
              "      border-bottom-color: var(--fill-color);\n",
              "      border-left-color: var(--fill-color);\n",
              "    }\n",
              "    20% {\n",
              "      border-color: transparent;\n",
              "      border-left-color: var(--fill-color);\n",
              "      border-top-color: var(--fill-color);\n",
              "    }\n",
              "    30% {\n",
              "      border-color: transparent;\n",
              "      border-left-color: var(--fill-color);\n",
              "      border-top-color: var(--fill-color);\n",
              "      border-right-color: var(--fill-color);\n",
              "    }\n",
              "    40% {\n",
              "      border-color: transparent;\n",
              "      border-right-color: var(--fill-color);\n",
              "      border-top-color: var(--fill-color);\n",
              "    }\n",
              "    60% {\n",
              "      border-color: transparent;\n",
              "      border-right-color: var(--fill-color);\n",
              "    }\n",
              "    80% {\n",
              "      border-color: transparent;\n",
              "      border-right-color: var(--fill-color);\n",
              "      border-bottom-color: var(--fill-color);\n",
              "    }\n",
              "    90% {\n",
              "      border-color: transparent;\n",
              "      border-bottom-color: var(--fill-color);\n",
              "    }\n",
              "  }\n",
              "</style>\n",
              "\n",
              "  <script>\n",
              "    async function quickchart(key) {\n",
              "      const quickchartButtonEl =\n",
              "        document.querySelector('#' + key + ' button');\n",
              "      quickchartButtonEl.disabled = true;  // To prevent multiple clicks.\n",
              "      quickchartButtonEl.classList.add('colab-df-spinner');\n",
              "      try {\n",
              "        const charts = await google.colab.kernel.invokeFunction(\n",
              "            'suggestCharts', [key], {});\n",
              "      } catch (error) {\n",
              "        console.error('Error during call to suggestCharts:', error);\n",
              "      }\n",
              "      quickchartButtonEl.classList.remove('colab-df-spinner');\n",
              "      quickchartButtonEl.classList.add('colab-df-quickchart-complete');\n",
              "    }\n",
              "    (() => {\n",
              "      let quickchartButtonEl =\n",
              "        document.querySelector('#df-7934ecbb-1714-4310-b2ff-05a9753e57d2 button');\n",
              "      quickchartButtonEl.style.display =\n",
              "        google.colab.kernel.accessAllowed ? 'block' : 'none';\n",
              "    })();\n",
              "  </script>\n",
              "</div>\n",
              "\n",
              "    </div>\n",
              "  </div>\n"
            ],
            "application/vnd.google.colaboratory.intrinsic+json": {
              "type": "dataframe",
              "variable_name": "states",
              "summary": "{\n  \"name\": \"states\",\n  \"rows\": 56,\n  \"fields\": [\n    {\n      \"column\": \"STATEFP\",\n      \"properties\": {\n        \"dtype\": \"string\",\n        \"num_unique_values\": 56,\n        \"samples\": [\n          \"28\",\n          \"22\",\n          \"45\"\n        ],\n        \"semantic_type\": \"\",\n        \"description\": \"\"\n      }\n    },\n    {\n      \"column\": \"STATENS\",\n      \"properties\": {\n        \"dtype\": \"string\",\n        \"num_unique_values\": 56,\n        \"samples\": [\n          \"01779790\",\n          \"01629543\",\n          \"01779799\"\n        ],\n        \"semantic_type\": \"\",\n        \"description\": \"\"\n      }\n    },\n    {\n      \"column\": \"AFFGEOID\",\n      \"properties\": {\n        \"dtype\": \"string\",\n        \"num_unique_values\": 56,\n        \"samples\": [\n          \"0400000US28\",\n          \"0400000US22\",\n          \"0400000US45\"\n        ],\n        \"semantic_type\": \"\",\n        \"description\": \"\"\n      }\n    },\n    {\n      \"column\": \"GEOID\",\n      \"properties\": {\n        \"dtype\": \"string\",\n        \"num_unique_values\": 56,\n        \"samples\": [\n          \"28\",\n          \"22\",\n          \"45\"\n        ],\n        \"semantic_type\": \"\",\n        \"description\": \"\"\n      }\n    },\n    {\n      \"column\": \"STUSPS\",\n      \"properties\": {\n        \"dtype\": \"string\",\n        \"num_unique_values\": 56,\n        \"samples\": [\n          \"MS\",\n          \"LA\",\n          \"SC\"\n        ],\n        \"semantic_type\": \"\",\n        \"description\": \"\"\n      }\n    },\n    {\n      \"column\": \"NAME\",\n      \"properties\": {\n        \"dtype\": \"string\",\n        \"num_unique_values\": 56,\n        \"samples\": [\n          \"Mississippi\",\n          \"Louisiana\",\n          \"South Carolina\"\n        ],\n        \"semantic_type\": \"\",\n        \"description\": \"\"\n      }\n    },\n    {\n      \"column\": \"LSAD\",\n      \"properties\": {\n        \"dtype\": \"category\",\n        \"num_unique_values\": 1,\n        \"samples\": [\n          \"00\"\n        ],\n        \"semantic_type\": \"\",\n        \"description\": \"\"\n      }\n    },\n    {\n      \"column\": \"ALAND\",\n      \"properties\": {\n        \"dtype\": \"number\",\n        \"std\": 217378106661,\n        \"min\": 158340391,\n        \"max\": 1478839695958,\n        \"num_unique_values\": 56,\n        \"samples\": [\n          121533519481\n        ],\n        \"semantic_type\": \"\",\n        \"description\": \"\"\n      }\n    },\n    {\n      \"column\": \"AWATER\",\n      \"properties\": {\n        \"dtype\": \"number\",\n        \"std\": 35045452544,\n        \"min\": 18687198,\n        \"max\": 245481577452,\n        \"num_unique_values\": 56,\n        \"samples\": [\n          3926919758\n        ],\n        \"semantic_type\": \"\",\n        \"description\": \"\"\n      }\n    },\n    {\n      \"column\": \"geometry\",\n      \"properties\": {\n        \"dtype\": \"geometry\",\n        \"num_unique_values\": 56,\n        \"samples\": [\n          \"MULTIPOLYGON (((-88.502966 30.215235, -88.491759 30.209014, -88.468668 30.203730999999998, -88.45344399999999 30.201235999999998, -88.4491297949387 30.201667020672495, -88.44265399999999 30.202313999999998, -88.43033199999999 30.208548, -88.420121 30.209097999999997, -88.41308699999999 30.206343999999998, -88.42925 30.200387, -88.44885549161519 30.1973317760772, -88.453654 30.196583999999998, -88.493523 30.205945, -88.502752 30.210506, -88.506999 30.214347999999998, -88.502966 30.215235)), ((-88.58458999999999 30.337358, -88.583963 30.338137999999997, -88.582703 30.338759, -88.58103799999999 30.338371, -88.579509 30.338836999999998, -88.578744 30.338836999999998, -88.576449 30.338371, -88.575594 30.338176999999998, -88.574469 30.33938, -88.57177 30.340856, -88.56988 30.341321999999998, -88.5697 30.33907, -88.569025 30.337011999999998, -88.56871 30.335884999999998, -88.568395 30.333478, -88.568125 30.332894999999997, -88.56817 30.330292999999998, -88.56776599999999 30.329556, -88.568395 30.328857, -88.56934 30.328818, -88.572895 30.328895, -88.575594 30.329323, -88.579509 30.329866, -88.582568 30.331342, -88.584053 30.334059999999997, -88.584773 30.335769, -88.58458999999999 30.337358)), ((-88.770082 30.242898999999998, -88.75083 30.245952, -88.73254999999999 30.246322, -88.718104 30.252931, -88.710719 30.250798999999997, -88.68830799999999 30.243797999999998, -88.68018599999999 30.243009999999998, -88.66784121102019 30.238229839217198, -88.656804 30.233956, -88.649326 30.234517999999998, -88.6466894850649 30.2337766213357, -88.635318 30.230579, -88.59638 30.225614999999998, -88.58683099999999 30.221542999999997, -88.60049699999999 30.221183, -88.633743 30.226342, -88.64676477441819 30.2282439958564, -88.652906 30.229141, -88.665857 30.228847, -88.6681032293126 30.2293943611759, -88.68701999999999 30.234004, -88.69841799999999 30.238713999999998, -88.714941 30.243720999999997, -88.730628 30.241462, -88.752782 30.238802999999997, -88.76366499999999 30.240025, -88.770082 30.242898999999998)), ((-88.871763 30.385658999999997, -88.865652 30.383291999999997, -88.859556 30.381332999999998, -88.85392999999999 30.378557999999998, -88.849814 30.378666, -88.837918 30.374087999999997, -88.83616599999999 30.374066, -88.82991299999999 30.371641999999998, -88.82437399999999 30.367907, -88.821243 30.364264, -88.81855999999999 30.361871999999998, -88.81876199999999 30.36059, -88.826743 30.364786, -88.83672 30.369412999999998, -88.840087 30.370058999999998, -88.85169499999999 30.375280999999998, -88.86702799999999 30.382434999999997, -88.874382 30.385120999999998, -88.871763 30.385658999999997)), ((-88.89290299999999 30.235096, -88.888982 30.239306, -88.883515 30.242078, -88.879356 30.242489, -88.88125699999999 30.239818999999997, -88.88815 30.235609999999998, -88.893498 30.232222, -88.89290299999999 30.235096)), ((-88.982219 30.211627, -88.976811 30.210987, -88.971819 30.212439, -88.966518 30.212823999999998, -88.951774 30.213447, -88.949123 30.212622, -88.953259 30.209781, -88.95864499999999 30.208510999999998, -88.974672 30.207390999999998, -88.980239 30.207962, -88.98424899999999 30.21032, -88.982219 30.211627)), ((-89.121303 30.231738, -89.11695499999999 30.230735, -89.0983232673887 30.230751763089298, -89.095837 30.230753999999997, -89.077514 30.230397, -89.07234199999999 30.238678, -89.067128 30.250199, -89.065713 30.24569, -89.06861099999999 30.235851999999998, -89.074615 30.225835, -89.07885999999999 30.22011, -89.085071 30.213222, -89.08838399999999 30.210091, -89.090558 30.211522, -89.087659 30.213133, -89.08838399999999 30.214654, -89.092007 30.215995, -89.0985194506541 30.214477336746498, -89.10122 30.213848, -89.104119 30.214921999999998, -89.108053 30.214116999999998, -89.110433 30.215010999999997, -89.110123 30.217783999999998, -89.110537 30.222614999999998, -89.11457399999999 30.224404, -89.15673799999999 30.230698999999998, -89.121303 30.231738)), ((-91.65500899999999 31.251814999999997, -91.654027 31.255753, -91.651369 31.259528, -91.648669 31.262238, -91.64125299999999 31.266917, -91.637672 31.26768, -91.621358 31.267811, -91.60667199999999 31.265900000000002, -91.587749 31.262563, -91.57449299999999 31.261288999999998, -91.56419199999999 31.261633, -91.553905 31.26305, -91.537734 31.267369, -91.51857799999999 31.275282999999998, -91.515614 31.278209999999998, -91.512085 31.284177, -91.50885799999999 31.291643999999998, -91.508296 31.295828999999998, -91.507977 31.312942999999997, -91.50865999999999 31.315130999999997, -91.510049 31.316822, -91.518509 31.323331999999997, -91.531657 31.331801, -91.53320599999999 31.333225, -91.53606099999999 31.338355, -91.545617 31.343761999999998, -91.54896699999999 31.347254999999997, -91.54889399999999 31.353997999999997, -91.55086899999999 31.360574, -91.551002 31.363644999999998, -91.549915 31.376314999999998, -91.546607 31.381197999999998, -91.546207 31.382479999999997, -91.552432 31.385658, -91.55568 31.386412999999997, -91.560524 31.384559, -91.56255499999999 31.383218999999997, -91.568953 31.377629, -91.57123399999999 31.384663999999997, -91.573931 31.390886, -91.578334 31.399067, -91.578246 31.403858999999997, -91.57626499999999 31.410497999999997, -91.570092 31.419487, -91.565179 31.423447, -91.554805 31.428569999999997, -91.55274999999999 31.430691999999997, -91.548465 31.432668, -91.545013 31.433025999999998, -91.541626 31.431706, -91.54064699999999 31.430757999999997, -91.537137 31.424160999999998, -91.537002 31.423184, -91.539504 31.41791, -91.539458 31.414020999999998, -91.532336 31.390275, -91.52695 31.380854999999997, -91.521836 31.375169999999997, -91.51597799999999 31.370286, -91.50807499999999 31.366276, -91.50416299999999 31.36495, -91.47887 31.364955, -91.472465 31.371326, -91.471098 31.376917, -91.471992 31.382143, -91.47201837791289 31.383704001204297, -91.472149 31.391434, -91.472065 31.395925, -91.47692599999999 31.397796, -91.48022999999999 31.404390999999997, -91.49004 31.412716, -91.500046 31.42052, -91.506423 31.431459999999998, -91.510356 31.438927999999997, -91.51336599999999 31.444395999999998, -91.51513 31.449206, -91.516999 31.460573999999998, -91.518148 31.483483, -91.51714 31.498393999999998, -91.515157 31.50338, -91.514917 31.510112999999997, -91.516759 31.511771999999997, -91.520579 31.513206999999998, -91.52286199999999 31.517492999999998, -91.52292 31.519841, -91.522536 31.522077999999997, -91.521445 31.523912, -91.5180421394486 31.5281282861348, -91.51581 31.530894, -91.51396299999999 31.532083999999998, -91.511217 31.532612, -91.50671899999999 31.532966, -91.500118 31.532615999999997, -91.489618 31.534266, -91.483918 31.532566, -91.481318 31.530666, -91.47971799999999 31.530365999999997, -91.4552374776405 31.538031360019602, -91.4504327116009 31.539535832063297, -91.450017 31.539665999999997, -91.443916 31.542465999999997, -91.43761599999999 31.546166, -91.42641599999999 31.554565999999998, -91.4228560395115 31.556918464978004, -91.4198689883791 31.5588923445195, -91.4198546253413 31.5589018357887, -91.414915 31.562165999999998, -91.407915 31.569366, -91.4077734 31.5696492, -91.406615 31.571966, -91.40541499999999 31.576466, -91.4043098523501 31.5862649758289, -91.403915 31.589765999999997, -91.413015 31.595364999999997, -91.417115 31.596265, -91.422716 31.597064999999997, -91.43071599999999 31.596465, -91.43631599999999 31.594965, -91.4516770489488 31.589604101873796, -91.457517 31.587566, -91.46631699999999 31.586066, -91.4671464203883 31.5860280141796, -91.479418 31.585466, -91.48521799999999 31.586166, -91.488618 31.587466, -91.494118 31.590165, -91.502783 31.595727, -91.51301 31.606885, -91.5148155315998 31.6093889885807, -91.516567 31.611818, -91.51723299999999 31.61346, -91.517921 31.618641999999998, -91.51665899999999 31.627332, -91.515462 31.630371999999998, -91.51233599999999 31.634722, -91.50730999999999 31.639067999999998, -91.49927799999999 31.644658, -91.497665 31.645370999999997, -91.494478 31.645013, -91.49274799999999 31.644278999999997, -91.490027 31.641000000000002, -91.487518 31.637065, -91.482618 31.631565, -91.479818 31.628964999999997, -91.474318 31.625365, -91.46381699999999 31.620365, -91.43671599999999 31.612665, -91.429616 31.611365, -91.421116 31.611565, -91.41649799999999 31.613132999999998, -91.401015 31.620365, -91.398315 31.626265, -91.3963998609334 31.637581730848297, -91.396115 31.639264999999998, -91.395715 31.644164999999997, -91.398015 31.662664999999997, -91.400115 31.688163999999997, -91.400015 31.697864, -91.397915 31.709363999999997, -91.397115 31.711364, -91.380915 31.732464, -91.3802389538171 31.7332419242873, -91.371804 31.742948, -91.365034 31.748184, -91.356394 31.749105999999998, -91.338663 31.750004999999998, -91.31981599999999 31.749989, -91.31786142917309 31.749791433823, -91.310734 31.749070999999997, -91.29172299999999 31.74526, -91.275545 31.745514999999997, -91.26340599999999 31.754468, -91.25961099999999 31.76129, -91.263043 31.766994999999998, -91.2662786530318 31.7682446294555, -91.27387399999999 31.771178, -91.286045 31.772062, -91.301315 31.766748, -91.31351593061801 31.7641562052649, -91.32597299999999 31.761509999999998, -91.35521399999999 31.758063, -91.365529 31.761627999999998, -91.363714 31.780362999999998, -91.35951399999999 31.799362, -91.3462849723467 31.8410612372385, -91.345714 31.842861, -91.343014 31.846860999999997, -91.338414 31.851260999999997, -91.33381399999999 31.853261, -91.326914 31.854961, -91.294713 31.86046, -91.293413 31.860159999999997, -91.289312 31.846860999999997, -91.29013499999999 31.833658, -91.289412 31.828661, -91.287812 31.824161, -91.28491199999999 31.818361999999997, -91.282212 31.814761999999998, -91.28021199999999 31.813162, -91.27671199999999 31.811362, -91.269212 31.809161999999997, -91.262011 31.809362, -91.255611 31.812662, -91.25011099999999 31.817762, -91.247367 31.822322999999997, -91.245047 31.831446999999997, -91.24562399999999 31.833164999999997, -91.261144 31.846118999999998, -91.266612 31.851160999999998, -91.268112 31.853061, -91.268812 31.855161, -91.26901199999999 31.858660999999998, -91.26771199999999 31.862659999999998, -91.26695732 31.86366624, -91.26651199999999 31.864259999999998, -91.264412 31.86546, -91.248144 31.869847999999998, -91.234899 31.876863, -91.226951 31.885105, -91.20881 31.900458999999998, -91.20510999999999 31.904159, -91.20281 31.907958999999998, -91.20101 31.909159, -91.19751 31.908659, -91.19381 31.909558999999998, -91.19261 31.910159, -91.19198550466851 31.9111304371823, -91.19081 31.912958999999997, -91.18921 31.914258999999998, -91.1861958745166 31.9152134730697, -91.18321 31.916158999999997, -91.181227656 31.917531392, -91.18061 31.917959, -91.18110999999999 31.920059, -91.18491 31.923758999999997, -91.1846256046064 31.9259865269207, -91.18370999999999 31.933158, -91.18471 31.935057999999998, -91.19111 31.934158, -91.19291 31.934957999999998, -91.19321 31.935658, -91.18951 31.946358, -91.18880999999999 31.953158, -91.18911 31.957458, -91.18831 31.960957999999998, -91.18481 31.965556999999997, -91.180485274378 31.970057052336298, -91.17741 31.973257, -91.17021 31.979056999999997, -91.16440999999999 31.982557, -91.117409 31.987057, -91.104108 31.990357, -91.096108 31.994857, -91.090105 32.000157, -91.075908 32.016828, -91.079928 32.018316, -91.08080799999999 32.023455999999996, -91.082608 32.028656, -91.084408 32.031456, -91.08810799999999 32.034455, -91.095508 32.037455, -91.125109 32.042854999999996, -91.14511 32.046555, -91.15141 32.049254999999995, -91.15630999999999 32.052655, -91.15901 32.055955, -91.16131 32.059754999999996, -91.16201 32.062355, -91.16201 32.065354, -91.16161 32.067754, -91.16031 32.070354, -91.15581 32.075554, -91.14881 32.080154, -91.14511 32.081354, -91.139309 32.081754, -91.134909 32.080354, -91.128609 32.076554, -91.12410899999999 32.071854, -91.11430899999999 32.058254999999996, -91.103708 32.050255, -91.098708 32.048355, -91.082308 32.047554999999996, -91.080208 32.048355, -91.07910799999999 32.050255, -91.08170799999999 32.075753999999996, -91.081508 32.077754, -91.08000799999999 32.079153999999996, -91.066679 32.08533, -91.038607 32.098254, -91.034707 32.101053, -91.030507 32.108153, -91.0307064962793 32.114336885917304, -91.030907 32.120551999999996, -91.0307991898912 32.1205658494524, -91.027007 32.121052999999996, -91.020006 32.123553, -91.017606 32.125153, -91.01180599999999 32.131153, -91.006406 32.139952, -91.005006 32.142852, -91.004106 32.146152, -91.002906 32.162051999999996, -91.016606 32.160852, -91.025007 32.162552, -91.03190699999999 32.167851, -91.04180699999999 32.174551, -91.050207 32.178450999999995, -91.058307 32.180951, -91.05890699999999 32.171251, -91.055707 32.163751999999995, -91.049707 32.157351999999996, -91.048507 32.150152, -91.050207 32.145252, -91.05120699999999 32.144152, -91.053175 32.124237, -91.061555 32.126906999999996, -91.069081 32.131478, -91.07704299999999 32.133493, -91.08162999999999 32.133992, -91.091656 32.133604, -91.101181 32.131136, -91.103696 32.130007, -91.111294 32.125036, -91.11317397554708 32.1255440027236, -91.113866 32.125731, -91.13140299999999 32.126213, -91.136566 32.127371, -91.1444 32.13039, -91.15504299999999 32.132242999999995, -91.16282199999999 32.132694, -91.165452 32.13429, -91.1656436337104 32.1345953874809, -91.171702 32.14425, -91.173495 32.149009, -91.17455199999999 32.154978, -91.173664 32.164231, -91.17104599999999 32.176525999999996, -91.16807299999999 32.186634999999995, -91.164171 32.196888, -91.16206199999999 32.199035, -91.15802599999999 32.201955999999996, -91.13358699999999 32.213432, -91.130197 32.213665999999996, -91.128495 32.213169, -91.124043 32.211104, -91.11726999999999 32.206668, -91.11408399999999 32.206697, -91.11300899999999 32.20655, -91.108509 32.208149999999996, -91.100409 32.21785, -91.092108 32.22385, -91.083708 32.22645, -91.075108 32.22705, -91.071108 32.22605, -91.061408 32.21865, -91.05510699999999 32.22475, -91.053107 32.22795, -91.051807 32.234449, -91.0503836512323 32.2377701471247, -91.05030699999999 32.237949, -91.04650699999999 32.241149, -91.039007 32.242349, -91.034307 32.241549, -91.026607 32.238749, -91.021507 32.236149, -91.00960599999999 32.22615, -91.002906 32.22305, -91.00433699999999 32.218125, -91.00450699999999 32.212516, -91.002467 32.195859999999996, -91.001108 32.1928, -90.998542 32.191578, -90.995159 32.192119999999996, -90.99328899999999 32.194500000000005, -90.99282223865819 32.195246774206, -90.98904 32.201298, -90.98377099999999 32.210646, -90.983434 32.221305, -90.98313499999999 32.231370999999996, -90.98029 32.243601, -90.97613899999999 32.248092, -90.970016 32.25168, -90.969403 32.25252, -90.971344 32.257742, -90.979663 32.265252, -90.981028 32.266732999999995, -90.982985 32.270294, -90.984077 32.279954, -90.980747 32.29141, -90.979475 32.293701999999996, -90.976199 32.29645, -90.97460199999999 32.297122, -90.971643 32.297497, -90.96414899999999 32.296872, -90.963079 32.296285, -90.961171 32.293288, -90.955405 32.286241, -90.953008 32.284043, -90.951351 32.283198999999996, -90.947834 32.283485999999996, -90.9345267477263 32.29007762239689, -90.93399099999999 32.290343, -90.9234496740595 32.297779295918495, -90.922231 32.298639, -90.916157 32.303582, -90.9065484299256 32.3140049891148, -90.90517299999999 32.315497, -90.902558 32.319587, -90.90124 32.323386, -90.90071999999999 32.330379, -90.89636407339519 32.3367566924205, -90.8879188953814 32.349121627070396, -90.88645397951801 32.3512664710144, -90.88252979332908 32.3570120344237, -90.882161 32.357552, -90.8765213811194 32.3704048037031, -90.875631 32.372434, -90.878289 32.374548, -90.8888123894195 32.373262444265, -90.888947 32.373246, -90.89206 32.370579, -90.897762 32.35436, -90.90775599999999 32.343610999999996, -90.912363 32.339453999999996, -90.92116999999999 32.342073, -90.93489699999999 32.344967, -90.94298099999999 32.345956, -90.954583 32.345859, -90.986672 32.35176, -90.993625 32.354047, -91.000106 32.357695, -91.003506 32.362145, -91.00450599999999 32.364744, -91.00450599999999 32.368144, -91.00060599999999 32.381644, -90.996237 32.388061, -90.994686 32.392277, -90.99378 32.396778, -90.99408 32.403862, -90.980723 32.408243, -90.97446099999999 32.412001, -90.971141 32.414636, -90.967767 32.418279, -90.96625499999999 32.421026999999995, -90.965986 32.424806, -90.96645699999999 32.433868, -90.966869 32.435499, -90.96856 32.438083999999996, -90.96959 32.43949, -90.97854699999999 32.447032, -90.983423 32.449076999999996, -90.99386299999999 32.450849999999996, -90.99897399999999 32.450165, -91.004806 32.445741, -91.01650599999999 32.440342, -91.02630599999999 32.434442, -91.029606 32.433541999999996, -91.05290699999999 32.438442, -91.070207 32.445141, -91.081807 32.450441, -91.095308 32.458740999999996, -91.108808 32.47204, -91.11210799999999 32.47614, -91.116008 32.48314, -91.117308 32.495039, -91.116708 32.500139, -91.106985 32.514934, -91.101304 32.525599, -91.098756 32.532968, -91.097949 32.537214, -91.097878 32.544751999999995, -91.093741 32.549127999999996, -91.074817 32.533467, -91.070467 32.528171, -91.06051599999999 32.512361, -91.050907 32.500139, -91.045807 32.495539, -91.038106 32.49044, -91.033906 32.48854, -91.02410599999999 32.48524, -91.017106 32.48374, -91.004206 32.48214, -90.999223 32.482614999999996, -90.996388 32.483925, -90.990703 32.487749, -90.988278 32.491189999999996, -90.987579 32.492387, -90.987202 32.495663, -90.988784 32.500841, -90.994867 32.508611, -91.007075 32.516371, -91.018469 32.521018999999995, -91.05116799999999 32.53089, -91.061685 32.536448, -91.075373 32.546718, -91.080398 32.556442, -91.0697862054881 32.562793318519, -91.06935399999999 32.563052, -91.049312 32.573623999999995, -91.0434509306581 32.576269553442096, -91.03617 32.579556, -91.030991 32.583346999999996, -91.022943 32.591848, -91.01623099999999 32.596953, -91.013723 32.598419, -91.010228 32.601926999999996, -91.004599 32.60978, -91.002997 32.614678, -91.002962 32.622555, -91.0035 32.624845, -91.00681999999999 32.631261, -91.014286 32.640482, -91.019115 32.643845, -91.025769 32.646573, -91.030181 32.644052, -91.038415 32.636443, -91.040401 32.632521, -91.041448 32.625135, -91.043263 32.620779, -91.0489 32.613555999999996, -91.049796 32.607188, -91.061354 32.605371999999996, -91.079506 32.60068, -91.087784 32.597069999999995, -91.105704 32.590879, -91.112764 32.590185999999996, -91.118641 32.585139, -91.11985399999999 32.584795, -91.125108 32.585187, -91.127912 32.586493, -91.13528 32.591651, -91.141148 32.597209, -91.14407399999999 32.600612999999996, -91.146204 32.604144, -91.15131799999999 32.615919, -91.153556 32.626180999999995, -91.15364868477079 32.627965094400295, -91.153821 32.631282, -91.15374399999999 32.635228, -91.152699 32.640757, -91.152081 32.641508, -91.14975299999999 32.644041, -91.144347 32.648029, -91.142038 32.649265, -91.138712 32.649774, -91.137638 32.650621, -91.130928 32.65887, -91.12772299999999 32.665343, -91.118258 32.674075, -91.10444299999999 32.682434, -91.098762 32.685291, -91.08114499999999 32.691127, -91.076061 32.693751, -91.063946 32.702926, -91.057043 32.712576, -91.054749 32.719229, -91.0545136340063 32.7218900408994, -91.054481 32.722259, -91.05699899999999 32.72558, -91.060766 32.727494, -91.077176 32.732534, -91.09057299999999 32.7361, -91.113652 32.73997, -91.12315199999999 32.742798, -91.13169099999999 32.743107, -91.150244 32.741786, -91.154461 32.742339, -91.15861 32.743449, -91.163389 32.747009, -91.165328 32.751301, -91.165814 32.757842, -91.164968 32.761984, -91.157614 32.776033, -91.15691799999999 32.780343, -91.158583 32.781096, -91.164397 32.785821, -91.1630557060552 32.7921940559525, -91.161412 32.800004, -91.1615150883724 32.805002382133104, -91.1615835115222 32.8083199730676, -91.16166899999999 32.812464999999996, -91.15833599999999 32.822303999999995, -91.15715499999999 32.823823, -91.152174 32.826673, -91.149704 32.83122, -91.14500199999999 32.84287, -91.143559 32.844739, -91.13789 32.848974999999996, -91.12788599999999 32.855059, -91.124725 32.854861, -91.116091 32.855641, -91.105631 32.858396, -91.086683 32.873391999999996, -91.070602 32.888659, -91.068186 32.891929, -91.064449 32.901064, -91.06380899999999 32.903709, -91.0637985738819 32.903930450747694, -91.063684 32.906363999999996, -91.064854 32.91652, -91.064624248363 32.917968444436504, -91.063875 32.922692, -91.0642106228094 32.9240547225371, -91.064804 32.926463999999996, -91.07054699999999 32.936036, -91.072075 32.937832, -91.08043099999999 32.943205999999996, -91.081913 32.944767999999996, -91.083084 32.947908999999996, -91.081892 32.949435, -91.080507 32.950123, -91.078904 32.951817999999996, -91.080355 32.962793999999995, -91.08680199999999 32.976265999999995, -91.090887 32.981173999999996, -91.094265 32.984370999999996, -91.09693 32.986412, -91.10658099999999 32.988938, -91.111757 32.988361, -91.125107 32.984669, -91.13441399999999 32.980533, -91.135517 32.979656999999996, -91.13858499999999 32.971351999999996, -91.137524 32.96955, -91.13305 32.966541, -91.13094699999999 32.963815, -91.130721 32.962257, -91.131243 32.960927999999996, -91.133335 32.959056, -91.136628 32.957349, -91.13716699999999 32.95652, -91.137863 32.952756, -91.13550699999999 32.946163999999996, -91.131289 32.930049, -91.131304 32.926919, -91.132115 32.923122, -91.134041 32.917676, -91.14507599999999 32.905494, -91.15169 32.901935, -91.159975 32.899879, -91.17023499999999 32.899391, -91.175405 32.899998, -91.181631 32.901446, -91.19678499999999 32.906784, -91.199775 32.908512, -91.208263 32.915354, -91.211597 32.919624, -91.212837 32.922104, -91.213972 32.927198, -91.214027 32.93032, -91.21282 32.936076, -91.21070499999999 32.939845, -91.20743999999999 32.944393, -91.199415 32.952314, -91.20119 32.954982, -91.20203 32.957332, -91.201842 32.961211999999996, -91.199646 32.963561, -91.19743299999999 32.964819999999996, -91.186983 32.976194, -91.182158 32.978639, -91.17330799999999 32.986087999999995, -91.168973 32.992132, -91.166195 33.002238, -91.166073 33.004106, -91.166282 33.011331, -91.162363 33.019684, -91.15616 33.023579999999995, -91.14975799999999 33.026312, -91.14242399999999 33.027231, -91.137439 33.028735999999995, -91.129088 33.033553999999995, -91.12565599999999 33.038275999999996, -91.123441 33.046577, -91.120379 33.05453, -91.12029299999999 33.055921, -91.121195 33.059166, -91.124639 33.064127, -91.149823 33.081603, -91.16065599999999 33.085595999999995, -91.16591799999999 33.086174, -91.171514 33.087818, -91.173546 33.089318, -91.174723 33.09164, -91.180836 33.098364, -91.1863465782448 33.1006229834877, -91.195953 33.104561, -91.200167 33.10693, -91.20112499999999 33.108185, -91.20146199999999 33.109638, -91.202089 33.121249, -91.20178 33.125121, -91.195296 33.134730999999995, -91.193174 33.136734, -91.188718 33.139811, -91.183662 33.141691, -91.169406 33.142638999999996, -91.16165099999999 33.141781, -91.160298 33.141216, -91.153015 33.135093, -91.151853 33.131802, -91.150362 33.130694999999996, -91.143334 33.129785, -91.131659 33.129101, -91.114087 33.129833999999995, -91.104317 33.131598, -91.093201 33.136725999999996, -91.089862 33.139655, -91.087589 33.145177, -91.0869117647879 33.1487335707116, -91.085562 33.155822, -91.08488899999999 33.1618, -91.084366 33.180856, -91.086963 33.198509, -91.08990899999999 33.210194, -91.09171099999999 33.220813, -91.085984 33.221644, -91.082878 33.221621, -91.079635 33.223225, -91.07922699999999 33.223889, -91.07922699999999 33.2265, -91.07767299999999 33.227485, -91.074103 33.226821, -91.070697 33.227302, -91.071079 33.230095999999996, -91.068708 33.232935999999995, -91.065629 33.232982, -91.063912 33.237356, -91.054126 33.246105, -91.05040699999999 33.251202, -91.047648 33.259989, -91.045191 33.265404, -91.04398499999999 33.269835, -91.043624 33.274636, -91.045141 33.279015, -91.04814999999999 33.282796, -91.052369 33.285415, -91.05873 33.286901, -91.06703499999999 33.28718, -91.07256699999999 33.285885, -91.07853 33.283305999999996, -91.081244 33.28125, -91.083694 33.278557, -91.086137 33.273652, -91.09034199999999 33.257325, -91.091489 33.254838, -91.094748 33.250499, -91.096931 33.241628, -91.099093 33.238172999999996, -91.1001 33.238125, -91.10614199999999 33.241799, -91.11056099999999 33.24593, -91.114325 33.252953, -91.115184048026 33.2552449804476, -91.117223 33.260684999999995, -91.118208 33.262071, -91.128078 33.268502, -91.125528 33.274732, -91.12553899999999 33.280255, -91.140057 33.296617999999995, -91.141615 33.299538999999996, -91.1415885699783 33.3023290663642, -91.141475 33.314318, -91.143667 33.328398, -91.1434008294615 33.3301967703273, -91.14335299999999 33.33052, -91.141893 33.332963, -91.14178845675389 33.333361959631, -91.140968 33.336493, -91.142219 33.348988999999996, -91.14179299999999 33.350076, -91.140192 33.351452, -91.1303188483801 33.357111847657, -91.125108 33.360099, -91.120409 33.363808999999996, -91.106758 33.381141, -91.101456 33.38719, -91.090852 33.395781, -91.08427585764059 33.4000857760094, -91.0810374507895 33.402205653493695, -91.075293 33.405966, -91.07003408479049 33.4121383142545, -91.062281 33.421237999999995, -91.05917607179339 33.4268530396994, -91.05815199999999 33.428705, -91.057621 33.445341, -91.0580133125203 33.4462148596964, -91.059828 33.450257, -91.064701 33.453775, -91.067623 33.455104, -91.07455499999999 33.455811, -91.07781399999999 33.455648, -91.081834 33.454188, -91.08649799999999 33.451575999999996, -91.091566 33.446318999999995, -91.094279 33.442671, -91.096723 33.437602999999996, -91.09753099999999 33.433724999999995, -91.09747399999999 33.431733, -91.09533499999999 33.425684, -91.09521099999999 33.417488, -91.099277 33.408243999999996, -91.10717 33.399077999999996, -91.11376399999999 33.393124, -91.123623 33.387526, -91.14093799999999 33.380477, -91.154017 33.378914, -91.166304 33.379709, -91.17196799999999 33.381029999999996, -91.176942 33.382841, -91.191127 33.389634, -91.1930386834362 33.3909227138944, -91.204758 33.398823, -91.208113 33.402007, -91.209032 33.403633, -91.20922 33.40629, -91.208702 33.408719, -91.205272 33.414231, -91.20258 33.416832, -91.199354 33.418321, -91.19197299999999 33.417728, -91.184427 33.419576, -91.179368 33.417151, -91.17627999999999 33.416979, -91.163387 33.422157, -91.147663 33.427172, -91.144877 33.427706, -91.13915 33.426955, -91.131885 33.430063, -91.130561 33.4319, -91.130552 33.433263, -91.12858899999999 33.436284, -91.1211 33.443563, -91.118495 33.449116, -91.117975 33.453807, -91.11896443620039 33.4575629980587, -91.11966699999999 33.460229999999996, -91.125109 33.472842, -91.136656 33.481322999999996, -91.157319 33.492923, -91.160142 33.494828999999996, -91.164019 33.497448, -91.167403 33.498304, -91.172213 33.496691, -91.175488 33.49077, -91.177148 33.48617, -91.17698399999999 33.478899, -91.175635 33.471761, -91.171799 33.462342, -91.16936 33.452629, -91.17729299999999 33.443638, -91.181787 33.44078, -91.186979 33.438592, -91.19465799999999 33.436358, -91.206807 33.433845999999996, -91.210275 33.433796, -91.21737399999999 33.434699, -91.235181 33.438972, -91.235928 33.440611, -91.23431 33.4423, -91.2336971298595 33.443499513856004, -91.23342199999999 33.444038, -91.232587 33.453958, -91.231661 33.457100000000004, -91.223338 33.462764, -91.220192 33.463045, -91.215508 33.46478, -91.208535 33.468606, -91.20675299999999 33.470307999999996, -91.20566099999999 33.473552999999995, -91.199593 33.483125, -91.195634 33.488468, -91.189375 33.493005, -91.185637 33.496399, -91.18307 33.498613, -91.182901 33.502379, -91.184612 33.507363999999995, -91.187367 33.510552, -91.215671 33.529423, -91.219297 33.532364, -91.226325 33.5412, -91.229834 33.547047, -91.232295 33.552788, -91.232537 33.557454, -91.23141799999999 33.560593, -91.2308579778816 33.56137194507, -91.228489 33.564667, -91.224121 33.567369, -91.22146599999999 33.568166, -91.20315099999999 33.570758, -91.198285 33.572061, -91.188942 33.576225, -91.181068 33.58152, -91.17822 33.582606999999996, -91.175979 33.582968, -91.160755 33.581351999999995, -91.157429 33.581372, -91.152148 33.582721, -91.138418 33.590896, -91.13404299999999 33.594488999999996, -91.13244999999999 33.596989, -91.131588 33.59945, -91.130445 33.606034, -91.13090199999999 33.610918999999996, -91.1329605860014 33.6159919651592, -91.134389 33.619512, -91.139209 33.625658, -91.150499 33.633013, -91.16421199999999 33.643277999999995, -91.171168 33.647766, -91.178311 33.651109, -91.18545499999999 33.653604, -91.21128399999999 33.658526, -91.219048 33.661502999999996, -91.223001 33.664794, -91.226537 33.668665, -91.228228 33.671326, -91.22901499999999 33.677543, -91.227857 33.683073, -91.225279 33.687749, -91.22485081812859 33.6882194635809, -91.22057 33.692923, -91.212077 33.698249, -91.205377 33.700818999999996, -91.200712 33.701535, -91.190113 33.701859999999996, -91.17573 33.703116, -91.165846 33.705133, -91.162464 33.70684, -91.160866 33.707096, -91.144188 33.689596, -91.133416 33.67679, -91.13045 33.674521999999996, -91.10097999999999 33.660551, -91.09403999999999 33.658350999999996, -91.088202 33.657387, -91.084126 33.657322, -91.078507 33.658283, -91.06711 33.662689, -91.05918199999999 33.6664, -91.050523 33.668064, -91.04641199999999 33.668272, -91.03684 33.671316, -91.034565 33.673018, -91.03380495550819 33.6742722569971, -91.03146 33.678142, -91.030332 33.681622, -91.030402 33.687765999999996, -91.033366 33.688773, -91.03612 33.689113, -91.03715 33.692907, -91.039025 33.696594999999995, -91.04126099999999 33.699933, -91.04677799999999 33.706313, -91.055562 33.712486, -91.059891 33.714816, -91.063752 33.715892, -91.06828999999999 33.716477, -91.075389 33.714403, -91.089873 33.707364, -91.101101 33.705007, -91.107646 33.704679, -91.117733 33.705342, -91.12552699999999 33.70878, -91.13233799999999 33.714245999999996, -91.14473199999999 33.726803, -91.145792 33.728924, -91.14661799999999 33.732456, -91.146523 33.736503, -91.143287 33.747141, -91.144539 33.749338, -91.144571 33.751607, -91.141553 33.755956999999995, -91.140756 33.759735, -91.14130399999999 33.760835, -91.14363399999999 33.762094999999995, -91.144812 33.763996, -91.145112 33.76734, -91.14201 33.77382, -91.13986899999999 33.777117, -91.137351 33.779923, -91.133854 33.782814, -91.13218499999999 33.78342, -91.128222 33.783446999999995, -91.123466 33.782106, -91.117836 33.779026, -91.11403215048959 33.7763521493035, -91.111494 33.774567999999995, -91.10731799999999 33.770618999999996, -91.088996 33.775801, -91.08551 33.77641, -91.060524 33.77764, -91.05388599999999 33.778701, -91.026782 33.763642, -91.023285 33.762991, -91.01276999999999 33.764675, -91.000106 33.769165, -90.993842 33.773601, -90.99122 33.776790999999996, -90.98944399999999 33.780575999999996, -90.988466 33.78453, -90.9890693438216 33.7870549178418, -90.989299 33.788016, -90.99174699999999 33.792597, -91.000107 33.799549, -91.007767 33.802591, -91.02009799999999 33.804446999999996, -91.02254101166159 33.8051719607019, -91.025173 33.805952999999995, -91.042448 33.812855, -91.046849 33.815365, -91.049679 33.818729, -91.052819 33.824180999999996, -91.056692 33.828935, -91.064977 33.837126, -91.067511 33.840443, -91.07119499999999 33.849539, -91.073011 33.857448999999995, -91.07279799999999 33.862396, -91.070883 33.866714, -91.061247 33.877505, -91.055309 33.883035, -91.0394007245812 33.8962635825537, -91.03667399999999 33.898531, -91.026382 33.90798, -91.01748099999999 33.919083, -91.010831 33.925551999999996, -91.01003999999999 33.927003, -91.0101898469778 33.9282691530609, -91.010318 33.929352, -91.01299399999999 33.932276, -91.02009699999999 33.937127, -91.035961 33.943757999999995, -91.046725 33.947406, -91.078496 33.95406, -91.0790048351099 33.954252573959295, -91.08409499999999 33.956179, -91.08675799999999 33.95827, -91.088696 33.961334, -91.089787 33.966004, -91.089756 33.969721, -91.089119 33.972653, -91.087921 33.975335, -91.083187 33.979865, -91.07925399999999 33.982101, -91.075378 33.983585999999995, -91.071203 33.984473, -91.062264 33.985082999999996, -91.048367 33.985078, -91.042751 33.986810999999996, -91.03958899999999 33.989297, -91.033765 33.995323, -91.01889 34.003150999999995, -91.01361 33.994495, -91.004981 33.977011, -91.00298599999999 33.970901999999995, -91.000108 33.966428, -90.994856 33.963118, -90.987653 33.960792999999995, -90.983359 33.960186, -90.97686399999999 33.960502999999996, -90.970856 33.961867999999996, -90.967632 33.963324, -90.965187 33.965461, -90.96372 33.967687999999995, -90.96122199999999 33.976151, -90.961548 33.979945, -90.970947 33.991884999999996, -90.97748899999999 33.996553999999996, -90.979945 34.000105999999995, -90.987948 34.019038, -90.982742 34.020469, -90.976918 34.021335, -90.970726 34.02162, -90.958456 34.020254, -90.950311 34.017821999999995, -90.942662 34.018049999999995, -90.934896 34.019262, -90.923745 34.023143, -90.922017 34.023216, -90.914642 34.021885, -90.899467 34.023796, -90.89242 34.02686, -90.888956 34.029787999999996, -90.887413 34.032505, -90.886991 34.035094, -90.887394 34.039845, -90.88905799999999 34.046361999999995, -90.888627 34.052419, -90.88783699999999 34.055403, -90.88635099999999 34.058564, -90.882115 34.063902999999996, -90.874541 34.072041, -90.87194 34.076361999999996, -90.87177887623109 34.0768360142606, -90.870528 34.080515999999996, -90.87046099999999 34.082739, -90.871923 34.086652, -90.876606 34.092911, -90.878912 34.094573, -90.882628 34.096615, -90.88808499999999 34.097809999999996, -90.893526 34.097795, -90.90113 34.094667, -90.91406599999999 34.092756, -90.91839499999999 34.093053999999995, -90.921273 34.093958, -90.94632299999999 34.109373999999995, -90.948514 34.111269, -90.95500367987549 34.1189731025439, -90.955974 34.120125, -90.958467 34.125105, -90.959317 34.13035, -90.9543 34.138498, -90.938064 34.148754, -90.91001 34.165507999999996, -90.903577 34.164332, -90.894385 34.160953, -90.883073 34.151502, -90.876836 34.14813, -90.86788 34.142146, -90.86457999999999 34.140555, -90.853471 34.137510999999996, -90.847168 34.136884, -90.83609899999999 34.137876, -90.83028499999999 34.139813, -90.82570799999999 34.142011, -90.822593 34.144054, -90.815878 34.149879, -90.810884 34.155902999999995, -90.807813 34.161474, -90.807164 34.16746, -90.808685 34.175878, -90.8092482325233 34.176960879058804, -90.81001599999999 34.178436999999995, -90.81237399999999 34.180766999999996, -90.816572 34.183023, -90.82838799999999 34.184784, -90.838205 34.183803999999995, -90.84710799999999 34.186053, -90.85560000000001 34.186879999999995, -90.859087 34.186288, -90.864566 34.183882, -90.86965099999999 34.182964999999996, -90.87383 34.18322, -90.87747499999999 34.185632999999996, -90.882701 34.184363999999995, -90.887884 34.181979999999996, -90.891871 34.184765999999996, -90.9118 34.193897, -90.91604799999999 34.196916, -90.93267999999999 34.214824, -90.93522 34.219049999999996, -90.936988 34.227041, -90.937152 34.23411, -90.936404 34.236698, -90.933511 34.240218, -90.92901499999999 34.244541, -90.923152 34.24653, -90.912396 34.245931999999996, -90.907082 34.244492, -90.905934 34.243528999999995, -90.904279 34.24096, -90.900078 34.229621, -90.898286 34.227253, -90.89456 34.22438, -90.87912 34.21545, -90.867064 34.212140999999995, -90.856708 34.211597999999995, -90.852764 34.209403, -90.847808 34.20653, -90.844824 34.210999, -90.842151 34.216879999999996, -90.840009 34.223076999999996, -90.83950899999999 34.226200999999996, -90.84012799999999 34.230104, -90.839981 34.236114, -90.836972 34.250104, -90.8335284493208 34.2632196660809, -90.83240699999999 34.267491, -90.830612 34.271245, -90.828267 34.273649999999996, -90.824478 34.27624, -90.82091899999999 34.27784, -90.812829 34.279438, -90.802928 34.282465, -90.797569 34.282402, -90.7767231943719 34.280376159742296, -90.772266 34.279942999999996, -90.765165 34.280524, -90.755271 34.286848, -90.752681 34.289266, -90.743082 34.302257, -90.740889 34.306537999999996, -90.74060999999999 34.313469, -90.742694 34.320263, -90.74471299999999 34.324872, -90.748942 34.331044999999996, -90.765174 34.342818, -90.767108 34.345264, -90.767732 34.346872, -90.768445 34.353469, -90.767061 34.360271, -90.76576399999999 34.362109, -90.762085 34.364754, -90.756197 34.367256, -90.750107 34.367919, -90.741616 34.367225, -90.7336653420393 34.3653024500294, -90.729131 34.364205999999996, -90.724909 34.363659, -90.71301772823419 34.3637944126572, -90.712088 34.363805, -90.700147 34.365854999999996, -90.690497 34.368606, -90.678603 34.371122, -90.676245 34.371111, -90.676159 34.369558, -90.68162 34.35291, -90.69155099999999 34.338618, -90.693686 34.329679999999996, -90.693129 34.32257, -90.690005 34.318584, -90.686003 34.315771, -90.678097 34.313030999999995, -90.669343 34.31302, -90.661395 34.315398, -90.657488 34.322230999999995, -90.657371 34.327287, -90.660404 34.33576, -90.66087440465779 34.336693015370294, -90.666862 34.348569, -90.666788 34.35582, -90.655346 34.371846, -90.658542 34.375704999999996, -90.641398 34.383869, -90.63494 34.386362999999996, -90.631586 34.387192999999996, -90.61847999999999 34.388767, -90.61394399999999 34.390723, -90.580677 34.410554, -90.5801849857429 34.41097756891109, -90.575336 34.415152, -90.571145 34.420319, -90.56984868416879 34.422435183704, -90.56839699999999 34.424805, -90.56650499999999 34.429528, -90.565826 34.434379, -90.5666737771211 34.437763344305395, -90.56733 34.440383, -90.573959 34.451875, -90.576893 34.454350999999996, -90.583717 34.458829, -90.585477 34.461247, -90.588346 34.470562, -90.58992099999999 34.484792999999996, -90.588942 34.491096999999996, -90.587490456876 34.4965056046236, -90.586525 34.500102999999996, -90.58353 34.504084999999996, -90.581062 34.512817999999996, -90.5797559867619 34.5145861253569, -90.578493 34.516296, -90.569347 34.524867, -90.55527599999999 34.531012, -90.545728 34.537749999999996, -90.543633 34.540378, -90.541282 34.545331, -90.540736 34.548085, -90.54095099999999 34.550853, -90.545891 34.563257, -90.549244 34.568101, -90.557666 34.576929, -90.564866 34.582602, -90.570133 34.587457, -90.574787 34.595242999999996, -90.581693 34.604227, -90.58722399999999 34.615732, -90.58825499999999 34.626616, -90.5834403324521 34.641389257845596, -90.58301999999999 34.642679, -90.58308799999999 34.643609999999995, -90.585031 34.647072, -90.586336 34.651689, -90.587323 34.665407, -90.58853599999999 34.668645999999995, -90.588419 34.670963, -90.58200599999999 34.680234999999996, -90.578745 34.683844, -90.573106 34.686425, -90.567334 34.693371, -90.563391 34.695876, -90.5556919806313 34.6979286751794, -90.555627 34.697946, -90.552317 34.697086999999996, -90.54985599999999 34.695478, -90.548071 34.693169, -90.542761 34.688781, -90.54007399999999 34.684981, -90.538856 34.682463, -90.538061 34.673232, -90.53940899999999 34.670902, -90.550158 34.663444999999996, -90.55264199999999 34.659707, -90.553962 34.655018, -90.555104 34.646236, -90.55412899999999 34.640871, -90.551761 34.636483999999996, -90.547614 34.631656, -90.543696 34.629559, -90.537165 34.627767, -90.53218799999999 34.627486999999995, -90.524481 34.628504, -90.517168 34.630928, -90.5081 34.636682, -90.503061 34.640789999999996, -90.496639 34.648117, -90.48789 34.654880999999996, -90.47971799999999 34.659934, -90.469821 34.669436, -90.46604099999999 34.674312, -90.46369317848409 34.681418801128004, -90.46281599999999 34.684073999999995, -90.462552 34.687576, -90.463734 34.691092999999995, -90.467064 34.695643, -90.46997982090849 34.6980649497622, -90.47118499999999 34.699066, -90.475194 34.700826, -90.480041 34.701515, -90.486966 34.701477, -90.496552 34.700578, -90.509847 34.698003, -90.52208399999999 34.696605, -90.52921099999999 34.696819, -90.538974 34.698783, -90.546053 34.702076, -90.5555247323095 34.7112499429407, -90.565646 34.721053, -90.567482 34.723292, -90.56808099999999 34.724802, -90.56817199999999 34.727384, -90.5680615163688 34.7281046330409, -90.56724 34.733463, -90.565437 34.736536, -90.563544 34.738671, -90.559895 34.740787999999995, -90.556308 34.741541, -90.550119 34.741952999999995, -90.546425 34.743078, -90.53880099999999 34.745642, -90.53540799999999 34.750062, -90.536667 34.754947, -90.540634 34.760478, -90.542631 34.764396, -90.54622499999999 34.773443, -90.547859 34.779194, -90.54817 34.78189, -90.547612 34.784589, -90.544067 34.791159, -90.540222 34.795767999999995, -90.53650999999999 34.798572, -90.53133 34.800584, -90.522892 34.802265, -90.5167816771734 34.8018940214458, -90.51470599999999 34.801767999999996, -90.512761 34.796488, -90.50367899999999 34.780136, -90.50152299999999 34.774795, -90.50099399999999 34.771187, -90.501325 34.769931, -90.505494 34.764568, -90.516522 34.758333, -90.52243399999999 34.753952999999996, -90.524852 34.750079, -90.524354 34.742079, -90.523929 34.738417, -90.520181 34.731902, -90.511364 34.727604, -90.501667 34.724236, -90.48886499999999 34.723731, -90.479704 34.724793, -90.46989699999999 34.72703, -90.45795 34.732946, -90.454968 34.735557, -90.452479 34.739898, -90.4518770228971 34.7421576309091, -90.451257 34.744485, -90.45116999999999 34.747786999999995, -90.45303799999999 34.753352, -90.458883 34.764267, -90.470411 34.780877, -90.47352699999999 34.788835, -90.47458999999999 34.7932, -90.473877 34.798398999999996, -90.47228 34.802465, -90.47054399999999 34.805036, -90.465367 34.810592, -90.459024 34.81444, -90.456761 34.820395, -90.456935 34.823383, -90.46379499999999 34.834922999999996, -90.474403 34.849495, -90.481955 34.857805, -90.483876 34.861333, -90.485038 34.869251999999996, -90.48455799999999 34.875096, -90.483969 34.877176, -90.479872 34.883264, -90.475686 34.88631, -90.46615399999999 34.890989, -90.459819 34.891946, -90.45391599999999 34.891121999999996, -90.444806 34.887994, -90.441254 34.886313, -90.438313 34.884581, -90.436561 34.882731, -90.43009599999999 34.871212, -90.42898 34.867168, -90.429115 34.865086999999995, -90.431722 34.858913, -90.431741 34.855050999999996, -90.43082799999999 34.848982, -90.428754 34.8414, -90.423879 34.834606, -90.422355 34.833675, -90.414864 34.831846, -90.41066599999999 34.832028, -90.4079908833418 34.832998481267495, -90.40163299999999 34.835305, -90.379837 34.845931, -90.35217399999999 34.853196, -90.348218 34.855112999999996, -90.34038 34.860357, -90.33577206438409 34.8558944521077, -90.332298 34.85253, -90.323067 34.846391, -90.319198 34.844854, -90.311312 34.844223, -90.307384 34.846195, -90.303944 34.850516999999996, -90.302669 34.854366, -90.302523 34.856471, -90.303698 34.859704, -90.3044193945795 34.8605888851081, -90.313476 34.871697999999995, -90.31000499999999 34.875097, -90.301957 34.880053, -90.279364 34.890077, -90.250095 34.90732, -90.248308 34.909739, -90.246546 34.914168, -90.244725 34.921031, -90.24447599999999 34.937596, -90.246116 34.944316, -90.247832 34.947916, -90.2495204334623 34.9504061356819, -90.250056 34.951195999999996, -90.253969 34.954988, -90.25966299999999 34.957792999999995, -90.27824 34.965077, -90.282234 34.967661, -90.287239 34.972531, -90.293083 34.974574, -90.29642199999999 34.976346, -90.302471 34.982077, -90.304425 34.984939, -90.309297 34.995694, -90.3026450463283 34.9956725996129, -90.13745238930879 34.9951411487056, -90.12760563119531 34.9951094701272, -90.1269475389888 34.9951073529405, -90.0963372057652 34.9950088746566, -90.0607842992266 34.994894495332694, -90.04303640730011 34.994837397557006, -90.0313291971037 34.99479973361, -90.0250722522122 34.9947796040286, -90.0250168365057 34.9947794257475, -90.00815475867739 34.9947251777759, -90.008136877334 34.994725120248795, -90.0025384419794 34.994707109196696, -90.00226495154101 34.9947062293347, -89.9899073593362 34.99466647300589, -89.98990067128989 34.994666451489394, -89.97219550889899 34.9946094911814, -89.95589828023449 34.994557060419005, -89.9367552242117 34.9944954741798, -89.9367527187411 34.994495466119304, -89.91887881498529 34.9944379629436, -89.9014606033329 34.9943819258016, -89.893449449911 34.99435615265389, -89.893402 34.994355999999996, -89.8837478802462 34.994264623953704, -89.883365 34.994261, -89.8783097856676 34.9942511438032, -89.8617990449356 34.99421895266379, -89.84848799999999 34.994192999999996, -89.84838459511829 34.994193194001795, -89.8377794635948 34.9942130906857, -89.8307644094975 34.9942262518911, -89.83068949042689 34.9942263924496, -89.8131287302322 34.9942593388487, -89.7953564909701 34.994292682011604, -89.795187 34.994293, -89.75961578200929 34.9948931585598, -89.75961233055601 34.994893216792796, -89.7419450298609 34.9951912999718, -89.741785 34.995194, -89.7243244282036 34.995211728650496, -89.7066059367629 34.9952297191806, -89.64428199999999 34.995293, -89.6440499795058 34.9952920623604, -89.61794057187709 34.9951865492017, -89.59101607378369 34.995077742105, -89.5825900861135 34.9950436910615, -89.5822270839594 34.9950422240997, -89.5717770727674 34.9949999935863, -89.56505951050359 34.994972846619795, -89.52874829939559 34.994826106003, -89.511153 34.994755, -89.51113322718871 34.9947545526308, -89.49373899999999 34.994361, -89.486897 34.993975, -89.48446201429579 34.9939646399546, -89.4410170689412 34.9937797963198, -89.43495399999999 34.993753999999996, -89.40572016978702 34.9938850355527, -89.38112804033739 34.9939952654901, -89.35268016441019 34.9941227781396, -89.23319005545419 34.9946583717431, -89.217433 34.994729, -89.19828799999999 34.994484, -89.1584880355985 34.9939483549327, -89.15682699999999 34.993926, -89.139136 34.994307, -89.13899699999999 34.99433, -89.02654 34.994956, -89.0171270872889 34.9949454068841, -88.9936842139341 34.99491902471289, -88.93112498467029 34.9948486217263, -88.925241 34.994842, -88.8937681261162 34.995685948790005, -88.886979 34.995868, -88.8582329321065 34.9952417640877, -88.85103699999999 34.995084999999996, -88.8230487339323 34.9951575501037, -88.78661199999999 34.995252, -88.71968852525829 34.99541701881309, -88.6844382883445 34.9955039382727, -88.6058652359321 34.9956976824245, -88.58498971194459 34.9957491569513, -88.5638643532817 34.9958012475163, -88.5316851494129 34.9958805944727, -88.53104614590069 34.9958821701171, -88.5284971515357 34.9958884553859, -88.51421417673279 34.9959236741123, -88.5142131311916 34.995923676690396, -88.5054084601072 34.9959453871048, -88.50483317952289 34.995946805622296, -88.47883399999999 34.9960109139754, -88.474158525998 34.996022442683, -88.469877 34.996033, -88.46980099999999 34.996052, -88.4628193195682 34.9960174407092, -88.38050799999999 34.99561, -88.3635308623519 34.99558961029079, -88.258111 34.995463, -88.25382499999999 34.995553, -88.2516572426499 34.9955562660915, -88.2516091346036 34.9955563385744, -88.20034100539779 34.9956335826447, -88.200064 34.995633999999995, -88.19881099999999 34.991192, -88.187429 34.974909, -88.17997299999999 34.967466, -88.17610599999999 34.962519, -88.172102 34.955213, -88.161594 34.933456, -88.154617 34.922391999999995, -88.146335 34.914373999999995, -88.139721 34.909631, -88.136692 34.907592, -88.13318600882819 34.9059779925659, -88.12503799999999 34.902226999999996, -88.099999 34.894095, -88.097888 34.892202, -88.104828239252 34.8343853294572, -88.10755999999999 34.811628, -88.116418 34.746303, -88.11840699999999 34.724292, -88.120809790864 34.708890862191595, -88.1229228444128 34.6953468499391, -88.1308067668013 34.6448133736411, -88.13426299999999 34.622659999999996, -88.1343641919509 34.621900492639696, -88.138719 34.589214999999996, -88.139246 34.587795, -88.139988 34.581703, -88.1525090963558 34.4907061779864, -88.1560500936445 34.464972049690495, -88.156292 34.463214, -88.15655206473149 34.4609838238307, -88.15675103972801 34.4592775205854, -88.1586659845225 34.4428559772994, -88.1594297785128 34.4363060881802, -88.1613748286655 34.4196263774296, -88.165634 34.383102, -88.1656733734431 34.3827915774924, -88.16591 34.380925999999995, -88.173632 34.321054, -88.175867 34.302171, -88.176889 34.293858, -88.17710617074539 34.292238747559196, -88.1774959379743 34.289332593991105, -88.186667 34.220952, -88.18762 34.204778, -88.19067799999999 34.190123, -88.192128 34.175351, -88.20019599999999 34.115947999999996, -88.2037840638383 34.0865542422802, -88.20600529627859 34.0683576964181, -88.207229 34.058333, -88.210741 34.029199, -88.21174683554689 34.0217404155568, -88.2132700197265 34.0104455295678, -88.222135875909 33.9447024394569, -88.226428 33.912875, -88.226517 33.911665, -88.226517 33.911550999999996, -88.22893187253071 33.8942371038877, -88.22924906832169 33.8919629072572, -88.229252650117 33.891937226882, -88.2294613585972 33.8904408510291, -88.23098695974831 33.8795027582299, -88.235492 33.847203, -88.240054 33.810879, -88.24159929706839 33.8029735909988, -88.2416094387383 33.8029217083864, -88.243025 33.79568, -88.244142 33.781673, -88.2460218415259 33.767286363158895, -88.2489373465952 33.744973677721305, -88.252257 33.719567999999995, -88.25444499999999 33.698779, -88.254622 33.69578, -88.256131 33.68286, -88.256343 33.682052999999996, -88.262002140265 33.6354380745981, -88.26237072685801 33.6324019885971, -88.2623713027984 33.632397244516696, -88.267005 33.594229, -88.26714799999999 33.591989, -88.26816 33.58504, -88.269076 33.576929, -88.269532 33.572894, -88.27005 33.570819, -88.270781740705 33.564923594639005, -88.2713779363513 33.560120233305, -88.27414078427691 33.537860834095305, -88.274619 33.534008, -88.276805 33.516463, -88.27742099999999 33.512436, -88.27834801921169 33.504739977004704, -88.2801043139762 33.4901593893276, -88.2859481129665 33.4416447406107, -88.2910782508144 33.3990548370265, -88.29301654948 33.3829632707304, -88.2970970227493 33.349087580004394, -88.30049884097339 33.32084601721, -88.3005000457713 33.3208360150958, -88.30274373083179 33.3022091607627, -88.30441698708259 33.2883179507206, -88.30809041634369 33.2578214996127, -88.3114725832984 33.2297430797382, -88.312535 33.220923, -88.315235 33.203323, -88.317135 33.184123, -88.3218542065997 33.14616209746001, -88.3222722892766 33.1427990754313, -88.330934 33.073125, -88.3310076496119 33.072489727510394, -88.34043199999999 32.991199, -88.3478500256084 32.929077584824, -88.354292 32.87513, -88.3666091107452 32.763433949980005, -88.36818559513 32.7491378149249, -88.368349 32.747656, -88.3690552109757 32.74258399248949, -88.37333799999999 32.711825, -88.38298499999999 32.626954, -88.383039 32.626678999999996, -88.38537792631818 32.607159528893895, -88.3855823489929 32.6054535228254, -88.3861753483959 32.6005046560645, -88.3888572465182 32.5781229194103, -88.39996599999999 32.485414999999996, -88.3999703119346 32.4853749259647, -88.4033142007722 32.4542976645469, -88.40378899999999 32.449885, -88.40378899999999 32.44977, -88.40391242456269 32.448781795875895, -88.4039163853966 32.448750083286896, -88.4100961455102 32.3992715654218, -88.41250000000001 32.380024999999996, -88.41381899999999 32.373922, -88.4144532827107 32.3685012674077, -88.41471435859509 32.3662700501098, -88.4149186209757 32.36452437467909, -88.421453 32.308679999999995, -88.4240705677077 32.2862295148856, -88.42794114332119 32.2530321691437, -88.42827799999999 32.250143, -88.43129401638389 32.2276546024792, -88.4338373824385 32.2086904392936, -88.43581075890519 32.1939763035621, -88.43865 32.172806, -88.43871 32.172078, -88.4418791405619 32.146430371089295, -88.4428468074689 32.1385991117127, -88.443049750597 32.1369567074276, -88.4534176891327 32.0530497191012, -88.45388348887829 32.049280034926895, -88.454959 32.040576, -88.455039 32.039719, -88.46866 31.933173, -88.4688742551621 31.9303250695125, -88.4688743843865 31.9303233518312, -88.468879 31.930262, -88.473227 31.893856, -88.472642 31.875152999999997, -88.47121399999999 31.851384999999997, -88.47110599999999 31.850949, -88.4698254016609 31.819300827588197, -88.46905353307841 31.8002251898712, -88.46866899999999 31.790722, -88.46819722538001 31.7816613313433, -88.46510699999999 31.722312, -88.46442697928089 31.697951902948798, -88.46442499999999 31.697881, -88.4638529086848 31.688894069471097, -88.4606299357415 31.6382646801284, -88.459722 31.624001999999997, -88.45947799999999 31.621651999999997, -88.45777164245409 31.589586730776197, -88.4563306535853 31.562508176143897, -88.4536095981131 31.511375061341003, -88.4535741066828 31.5107081188993, -88.45329067959149 31.505382056955696, -88.453013 31.500163999999998, -88.45157499999999 31.481533, -88.451045 31.459448, -88.4495695963996 31.4358347375977, -88.449569225455 31.435828800772597, -88.44865999999999 31.421277, -88.448686 31.420887999999998, -88.44520899999999 31.355968999999998, -88.445182 31.355855, -88.44415645047549 31.3393230199194, -88.44380823874289 31.333709805452198, -88.4403875099455 31.2785672511538, -88.43970863275949 31.267623670323697, -88.4391512235642 31.258638167924197, -88.43878 31.252654, -88.43898 31.246896, -88.438211 31.231251999999998, -88.438104 31.230059999999998, -88.43350769620758 31.1427912908627, -88.432007 31.114297999999998, -88.4304196826215 31.0853230573691, -88.42580699999999 31.001123, -88.42572899999999 31.000183, -88.4256361537673 30.9983011286609, -88.4220230007208 30.925067256218597, -88.419562 30.875186, -88.41863 30.866528, -88.4184764744795 30.863275069407297, -88.41825377027149 30.858556366425802, -88.4181272847116 30.8558763641312, -88.4148111125415 30.785612619929296, -88.41245060127909 30.7355976173844, -88.41226999999999 30.731771, -88.41220899999999 30.730394999999998, -88.41154999999999 30.712956, -88.411339 30.706334, -88.409571 30.668730999999998, -88.40807 30.636969999999998, -88.40806433481309 30.6369204575682, -88.407462 30.631653, -88.407484 30.622736, -88.4060104917735 30.589761, -88.404676680269 30.559912212208598, -88.40418841075069 30.5489854409314, -88.40401299999999 30.54506, -88.4040045380663 30.5448844664734, -88.403931 30.543359, -88.40354699999999 30.5331, -88.402283 30.510852, -88.40196548524719 30.5046667163986, -88.4004035205078 30.4742391699529, -88.4004023553571 30.4742164724636, -88.4003178648367 30.472570571522397, -88.39958105438029 30.458217280556003, -88.395023 30.369425, -88.39723599999999 30.367689, -88.399062 30.360744, -88.397082 30.354785, -88.39415 30.352493, -88.390746 30.352075, -88.39398 30.349307, -88.401181 30.344382, -88.409927 30.342115, -88.40880899999999 30.349203, -88.412374 30.358022, -88.418554 30.357612, -88.420548 30.353941, -88.43091299999999 30.355560999999998, -88.436618 30.357816999999997, -88.44327299999999 30.355971999999998, -88.4464506716358 30.357251090826797, -88.446838 30.357407, -88.44873899999999 30.3531, -88.446495 30.347752999999997, -88.446625 30.337671, -88.45380999999999 30.329625999999998, -88.471875 30.32002, -88.48011699999999 30.318344999999997, -88.504119 30.320072999999997, -88.506226 30.322392999999998, -88.506334 30.327398, -88.5139233961846 30.3320155187343, -88.5140289004294 30.3320797093254, -88.521945 30.336896, -88.522494 30.340092, -88.52693599999999 30.342433999999997, -88.536214 30.343299, -88.5430995963863 30.343440788957004, -88.54662750675121 30.343513436074698, -88.550696 30.343597214934498, -88.564687783629 30.3438853352796, -88.579483 30.344189999999998, -88.582177 30.356354, -88.586356 30.358843, -88.584454 30.364379999999997, -88.586052 30.367518999999998, -88.588194 30.368751, -88.590514 30.365592999999997, -88.59281399999999 30.36124, -88.595559 30.359474, -88.59943899999999 30.35951, -88.60001 30.356575, -88.605406 30.355290999999998, -88.6069447673403 30.3544391370469, -88.607225 30.354284, -88.61075799999999 30.355064, -88.61139899999999 30.353887, -88.613006 30.353963999999998, -88.611578 30.358354, -88.612381 30.365053999999997, -88.610953 30.371677, -88.611131 30.37314, -88.611408934753 30.373204573180196, -88.612263 30.373403, -88.61820499999999 30.372583, -88.625503 30.3686, -88.63146642123039 30.3643198734944, -88.637697 30.359848, -88.6453766032459 30.360509745852497, -88.66382 30.362098999999997, -88.6643858625917 30.3618695302381, -88.66443023623529 30.361851535746897, -88.6646058785009 30.3617803089342, -88.6646214935596 30.361773976683498, -88.66465682091139 30.3617596506631, -88.6697165469578 30.3597078201515, -88.679575 30.35571, -88.69216399999999 30.347302, -88.700587 30.343688999999998, -88.71407699999999 30.342185999999998, -88.728893 30.342671, -88.746945 30.347621999999998, -88.7488592402935 30.348994630022197, -88.7490527901102 30.3491334173469, -88.77174199999999 30.365402999999997, -88.7843441162664 30.371567363746397, -88.8080074747104 30.3831423679621, -88.8104489204807 30.3843366086338, -88.81161499999999 30.384907, -88.81262199999999 30.386702999999997, -88.80203499999999 30.384991999999997, -88.8008993713624 30.384702363982896, -88.79598899999999 30.38345, -88.790523 30.384065, -88.7900243557591 30.385642757934896, -88.78981 30.386321, -88.79394966600479 30.3916779871441, -88.794088 30.391856999999998, -88.79990867458321 30.391699353541398, -88.801694 30.391651, -88.810227 30.394697999999998, -88.823724 30.402376, -88.82417111678589 30.4025594286201, -88.8279904609452 30.404126305666097, -88.84132799999999 30.409598, -88.84160445066809 30.4102964251719, -88.845665 30.420555, -88.85327 30.423014, -88.8550555672792 30.425850505682195, -88.8577763347166 30.4301726459825, -88.85778599999999 30.430187999999998, -88.85785737411129 30.4301591444396, -88.8650279702007 30.427260172184198, -88.8651674769563 30.4272037715434, -88.865392 30.427113, -88.87014599999999 30.424243999999998, -88.87085959588819 30.419471170238197, -88.871096 30.41789, -88.869908 30.409077, -88.8686292330705 30.408795398832098, -88.8676879924732 30.4085881253678, -88.85873699999999 30.406616999999997, -88.85951899999999 30.396922999999997, -88.857828 30.392898, -88.856764 30.390687999999997, -88.8569159903486 30.3902832109653, -88.85774099999999 30.388085999999998, -88.8654760880292 30.390505690510896, -88.8668744471578 30.390943125263004, -88.8674300433541 30.3911169268848, -88.868482 30.391446, -88.8830914961481 30.3919393285541, -88.884829 30.391997999999997, -88.8921243982953 30.3931202456448, -88.8924485085598 30.393170103283598, -88.89393 30.393397999999998, -88.90081204986821 30.393495961636496, -88.902129 30.3935147075905, -88.9172960921799 30.3937306015755, -88.92203099999999 30.393798, -88.92700073705919 30.393464831072297, -88.93429336583469 30.3929759365331, -88.95993399999999 30.391257, -88.96154299999999 30.387501999999998, -88.96331599999999 30.387960999999997, -88.9636311525467 30.3884364854735, -88.96386269718609 30.388785827764, -88.965431 30.391151999999998, -88.971233 30.390798, -88.9728057708046 30.390603314973198, -88.998902 30.387373, -89.0010189282735 30.386950998752198, -89.001334 30.3868881904543, -89.016334 30.383898, -89.02693169802379 30.3816017741269, -89.02792781822369 30.3813859426349, -89.0438481125902 30.3779364584404, -89.04871854227359 30.376881172035098, -89.05420248491708 30.375692954465897, -89.0569590512734 30.375095683344, -89.062039 30.373994999999997, -89.08513099999999 30.367421999999998, -89.084295 30.361714, -89.08785999999999 30.359662999999998, -89.085229 30.353581, -89.0873204783851 30.3518263995084, -89.091425 30.348383, -89.09244263902579 30.3503375896768, -89.0965732621699 30.3582713197628, -89.09880299999999 30.362554, -89.1014243489219 30.3616203885673, -89.12421691995868 30.353502657759798, -89.1242629454475 30.3534862654657, -89.1243361131973 30.3534602062688, -89.1253276145815 30.353107076237198, -89.140748 30.347614999999998, -89.141 30.343667999999997, -89.142485 30.343583, -89.145735 30.344945, -89.153881 30.342937, -89.18683999999999 30.331197, -89.19655313134609 30.3286821424704, -89.22044199999999 30.322497, -89.24 30.316025, -89.245075 30.312797, -89.245314 30.310957, -89.249832 30.310667, -89.25201 30.311754999999998, -89.271833 30.305491, -89.2792914293484 30.304207448863497, -89.2851359584202 30.303201640323596, -89.285744 30.303096999999998, -89.291444 30.303296, -89.2930400074627 30.305583610696498, -89.294444 30.307596, -89.2930427009818 30.309048573970696, -89.290126 30.312071999999997, -89.291844 30.328096, -89.2883538809651 30.3325459017694, -89.28784399999999 30.333195999999997, -89.2850603623825 30.332657002652397, -89.2823273363707 30.332127805259, -89.281564 30.331979999999998, -89.272775 30.334024, -89.268734 30.340588, -89.26906518038801 30.340955403242898, -89.27023104272719 30.3422487817755, -89.27206199999999 30.344279999999998, -89.27981799999999 30.34979, -89.284978 30.353845999999997, -89.291314 30.361303999999997, -89.29249899999999 30.365634999999997, -89.29725599999999 30.367046, -89.30605 30.365816, -89.30866499999999 30.361508999999998, -89.312219 30.360571, -89.30968899999999 30.373396999999997, -89.315067 30.375408, -89.335942 30.374015999999997, -89.340947 30.372896406886298, -89.34886120316901 30.3711260397798, -89.349447 30.370994999999997, -89.353248 30.368795, -89.3579905315615 30.363694541528197, -89.3621296409916 30.3592430464807, -89.36384799999999 30.357395, -89.365285 30.353102, -89.3601642160846 30.350580375798096, -89.35368280788889 30.3473887402911, -89.345934 30.343573, -89.338847 30.342995, -89.3354097438749 30.340212900930396, -89.332546 30.337895, -89.32242158451669 30.319435632920797, -89.322345 30.319295999999998, -89.32254499999999 30.314895999999997, -89.3258751775438 30.3094964417613, -89.3260036041186 30.3092882105902, -89.32968825561188 30.3033139073986, -89.32994599999999 30.302895999999997, -89.34377804178921 30.2938304050436, -89.344746 30.293196, -89.3553530068196 30.2898909181649, -89.3554309904552 30.2898666189161, -89.35854599999999 30.288895999999998, -89.3587095618304 30.2888051449352, -89.3617501893466 30.287116142009896, -89.36188451324578 30.2870415279846, -89.365747 30.284896, -89.36754670023389 30.2830050106238, -89.3686444134483 30.281851616304298, -89.3719308318901 30.2783984954778, -89.3770906582278 30.2729769388186, -89.37932219593701 30.270632207167598, -89.379547 30.270395999999998, -89.383747 30.267795999999997, -89.3874022718841 30.2664123747111, -89.38770663616289 30.266297164098397, -89.3966710586695 30.2629038729634, -89.39683794466279 30.262840701826498, -89.4050019273148 30.2597504001435, -89.4059354402093 30.2593970387276, -89.419348 30.25432, -89.424624 30.245390999999998, -89.424493 30.239092, -89.4237523818092 30.238672503992596, -89.42173 30.237527, -89.420136 30.234479999999998, -89.420749 30.229429, -89.43042799999999 30.223218, -89.434753 30.218753, -89.436835 30.213645, -89.44039699999999 30.212925, -89.44455099999999 30.208636, -89.447465 30.205098, -89.448765 30.202120999999998, -89.44771 30.194224, -89.444307 30.187779, -89.455519 30.181124999999998, -89.461275 30.174744999999998, -89.463595 30.173942999999998, -89.469792 30.176278, -89.462919 30.178199, -89.459829 30.182924, -89.46078 30.189909999999998, -89.468148 30.193813, -89.475824 30.191561, -89.48021399999999 30.193751, -89.486657 30.191164999999998, -89.490099 30.187676999999997, -89.492391 30.18313, -89.497346 30.181517999999997, -89.503231 30.18299, -89.51424999999999 30.184268999999997, -89.517584 30.182577, -89.522814 30.183014999999997, -89.524504 30.180753, -89.527952 30.188696999999998, -89.530452 30.192197, -89.533352 30.194796999999998, -89.538652 30.195797, -89.54145299999999 30.195397, -89.546953 30.193096999999998, -89.549053 30.191596999999998, -89.55085299999999 30.189197, -89.554653 30.185796999999997, -89.562253 30.182396999999998, -89.570154 30.180297, -89.574454 30.181697, -89.580754 30.186197, -89.585754 30.192096, -89.58735399999999 30.195196, -89.588854 30.200295999999998, -89.5923148031011 30.205397812032096, -89.59564316988019 30.210304390414297, -89.596655 30.211796, -89.601255 30.216096, -89.607655 30.217095999999998, -89.610655 30.218096, -89.612556 30.219496, -89.615856 30.223194999999997, -89.616956 30.225595, -89.61705599999999 30.227494999999998, -89.615856 30.235294999999997, -89.6147608502879 30.2390671823416, -89.61405599999999 30.241494999999997, -89.614156 30.244595, -89.61615599999999 30.247394999999997, -89.6165074108941 30.247509094446098, -89.62385599999999 30.249895, -89.626922 30.251745, -89.631789 30.256923999999998, -89.63222499999999 30.260137, -89.631215 30.261703999999998, -89.63064899999999 30.262083999999998, -89.62619699999999 30.262335999999998, -89.625305 30.263531999999998, -89.625892 30.265912999999998, -89.62960799999999 30.267308999999997, -89.630859 30.267328, -89.632316 30.268604, -89.632369 30.271511, -89.63051999999999 30.276562, -89.631411 30.279662, -89.6325886870199 30.2806761403619, -89.637647 30.285031999999998, -89.638504 30.288121999999998, -89.64344 30.287682, -89.647178 30.289367, -89.647399 30.291293999999997, -89.645324 30.292555999999998, -89.640434 30.295503, -89.6416348790883 30.3033413107134, -89.64164793613519 30.303426535938097, -89.641705 30.303798999999998, -89.640401 30.306755, -89.639872 30.307281, -89.634208 30.308256, -89.631643 30.309331999999998, -89.626221 30.314255, -89.626606 30.315457, -89.629877 30.321016999999998, -89.630399 30.332932999999997, -89.629727 30.339287, -89.636299 30.34397, -89.64519899999999 30.348125999999997, -89.645617 30.351314, -89.64670000000001 30.352500000000003, -89.652693 30.355535999999997, -89.657191 30.356514999999998, -89.660274 30.363487, -89.662204 30.371267, -89.67013399999999 30.382429, -89.67107216649849 30.3848733021368, -89.67276199999999 30.389276, -89.679153 30.399991, -89.6815402880308 30.4030887339946, -89.683686 30.405873, -89.684118 30.412646, -89.68231999999999 30.412990999999998, -89.681165 30.411492, -89.680134 30.4114, -89.67851399999999 30.414012, -89.680515 30.428924, -89.681946 30.434072999999998, -89.683521 30.434959, -89.684816 30.439511, -89.682829 30.445809999999998, -89.68341 30.451793, -89.6897794685397 30.4592779821573, -89.690102 30.459657, -89.6945614954128 30.462452504587098, -89.6953416546353 30.4629415596221, -89.695864 30.463269, -89.69839589450059 30.4640565109095, -89.701799 30.465114999999997, -89.70553799999999 30.47235, -89.70955099999999 30.477853, -89.71016399999999 30.478308, -89.712493 30.47751, -89.715886 30.477797, -89.719652 30.483165999999997, -89.721181 30.488608, -89.7214350091729 30.488851724502002, -89.724614 30.491902, -89.7246380002795 30.4919122546649, -89.726154 30.492559999999997, -89.73461499999999 30.494722999999997, -89.742396 30.497315999999998, -89.74281599999999 30.498704, -89.74643499999999 30.502619, -89.75293099999999 30.502492999999998, -89.758133 30.505404, -89.758575 30.505941999999997, -89.758862 30.513061999999998, -89.76057 30.515760999999998, -89.76813299999999 30.51502, -89.76999599999999 30.521895999999998, -89.770744 30.527818999999997, -89.771643 30.530248999999998, -89.77535499999999 30.538847999999998, -89.77956499999999 30.544345, -89.78024599999999 30.544607, -89.78399399999999 30.544075, -89.78854199999999 30.544463999999998, -89.791046 30.545046, -89.793818 30.545935, -89.79969299999999 30.547065, -89.803919 30.549349, -89.80298599999999 30.550946999999997, -89.797981 30.549118, -89.793989 30.548282999999998, -89.79195999999999 30.548788, -89.791664 30.551523999999997, -89.79453199999999 30.556554, -89.80278899999999 30.557903, -89.803831 30.558888, -89.80388699999999 30.560581, -89.80283299999999 30.562879, -89.80149399999999 30.563703, -89.800277 30.563695, -89.796697 30.561718, -89.791254 30.561369, -89.787719 30.566430999999998, -89.78686499999999 30.569053, -89.7886095247504 30.5698975563414, -89.789604 30.570379, -89.7907719014103 30.5697641093523, -89.79139699999999 30.569435, -89.79143499999999 30.565464, -89.793308 30.565158999999998, -89.79433499999999 30.565327999999997, -89.79568499999999 30.565652999999998, -89.793978 30.567231, -89.794495 30.569653, -89.79994699999999 30.569350999999997, -89.803753 30.568147999999997, -89.80618199999999 30.567542999999997, -89.808027 30.567998, -89.808184 30.568794999999998, -89.806843 30.572039, -89.80723078950129 30.5731656506665, -89.8074224002749 30.5737223403271, -89.80968399999999 30.580292999999998, -89.81292499999999 30.581654999999998, -89.813681983386 30.582716223863898, -89.815122 30.584735, -89.813735 30.586038, -89.8120710339305 30.5854866759069, -89.809739 30.584713999999998, -89.807762 30.585825, -89.807118 30.587336999999998, -89.8095573359544 30.586943358028197, -89.811431 30.586641, -89.81210899999999 30.591472999999997, -89.8124617126992 30.591487233565896, -89.8140234198428 30.591550255571, -89.816396 30.591645999999997, -89.81852699999999 30.592688, -89.81983799999999 30.59534, -89.819696 30.596784999999997, -89.81443 30.596504, -89.8143239360782 30.5970719463987, -89.8141897790341 30.5977903246064, -89.81404099999999 30.598587, -89.817202 30.600890999999997, -89.819969 30.602081, -89.822334 30.604642, -89.818117 30.604954, -89.81456299999999 30.606151999999998, -89.81392 30.607720999999998, -89.81537999999999 30.608566, -89.81690499999999 30.60862, -89.821286 30.607129999999998, -89.823278 30.60823, -89.822389 30.614462, -89.82086799999999 30.618254, -89.821424 30.619815, -89.825271 30.618271999999997, -89.828155 30.617931, -89.82990199999999 30.616705999999997, -89.83082499999999 30.617649, -89.83052692075329 30.618950042613598, -89.830337 30.619778999999998, -89.829948 30.622221, -89.82624799999999 30.621259, -89.823261 30.622802999999998, -89.8226517562371 30.6248276021069, -89.82227999999999 30.626063, -89.820571 30.628355, -89.82006799999999 30.632807999999997, -89.81808099999999 30.634019, -89.81385 30.636795, -89.813977 30.63818, -89.815788 30.639215, -89.820469 30.638261999999997, -89.823448 30.639871, -89.82341799999999 30.642840999999997, -89.82058699999999 30.644758, -89.82137999999999 30.646528, -89.825744 30.645273, -89.824986 30.649423, -89.833261 30.657515999999998, -89.836047 30.657297999999997, -89.840988 30.658514999999998, -89.851889 30.661199, -89.852263 30.662934, -89.85055 30.664780999999998, -89.848879 30.665201999999997, -89.84691699999999 30.663952, -89.845642 30.663569, -89.843355 30.663698999999998, -89.8417869041958 30.665556526803, -89.838804 30.669089999999997, -89.83789399999999 30.672514, -89.83886799999999 30.673731, -89.840597 30.67288, -89.84134999999999 30.671962999999998, -89.842344 30.669724, -89.84381599999999 30.668761, -89.845807 30.668930999999997, -89.847201 30.670037999999998, -89.844965 30.674691, -89.83679699999999 30.690572999999997, -89.835478 30.691166, -89.8357974621526 30.698409156751897, -89.835848 30.699555, -89.838065 30.704036, -89.83931199999999 30.704143, -89.84173 30.702713, -89.843605 30.702510999999998, -89.84592599999999 30.704157, -89.8461928375923 30.7049993857529, -89.846576 30.706208999999998, -89.845801 30.707314, -89.83625699999999 30.716185, -89.83196099999999 30.715384, -89.83005999999999 30.71631, -89.82806099999999 30.725018, -89.83306499999999 30.726758999999998, -89.836331 30.727197, -89.836945 30.728201, -89.83686999999999 30.734661, -89.83580066478609 30.7358542079603, -89.835437 30.736259999999998, -89.833818 30.736971999999998, -89.82741399999999 30.736199, -89.821535 30.736618, -89.81747999999999 30.737305, -89.816499 30.737945999999997, -89.816075 30.739365999999997, -89.81676399999999 30.740076, -89.819548 30.740671, -89.822969 30.740074999999997, -89.826351 30.738364999999998, -89.82775 30.738364999999998, -89.82869699999999 30.739451, -89.82510099999999 30.742079, -89.825774 30.747304999999997, -89.822459 30.754628, -89.824227 30.755157999999998, -89.82656999999999 30.753137, -89.829349 30.751317999999998, -89.83316699999999 30.753314, -89.83264899999999 30.755993999999998, -89.82688 30.756066999999998, -89.826121 30.759013999999997, -89.829314 30.760590999999998, -89.8303205727095 30.76186597041, -89.832408 30.764509999999998, -89.8322358941349 30.7651225467069, -89.8321274187491 30.7655086244292, -89.831537 30.767609999999998, -89.828756 30.768735999999997, -89.82781899999999 30.771223, -89.82765599999999 30.774815, -89.830418 30.779842, -89.82805499999999 30.783416, -89.824395 30.779629, -89.820087 30.782390999999997, -89.819024 30.784371, -89.82113 30.788608999999997, -89.821486 30.791183, -89.8212752774948 30.791875078816098, -89.821078 30.792523, -89.819164 30.795229, -89.817559 30.796053999999998, -89.816418 30.796053999999998, -89.813946 30.793782, -89.813535 30.792035, -89.81260999999999 30.789876, -89.812096 30.788437, -89.81065699999999 30.788026, -89.80676299999999 30.789068999999998, -89.80510699999999 30.790595999999997, -89.80469599999999 30.791624, -89.804901 30.792548999999998, -89.806237 30.793370999999997, -89.807071 30.793908, -89.808601 30.794912999999998, -89.810863 30.797379, -89.81147899999999 30.797995999999998, -89.811171 30.798921, -89.81065095991019 30.799388934905696, -89.810143 30.799846, -89.80817599999999 30.800562, -89.804632 30.802511, -89.804065 30.803247, -89.80425199999999 30.806934, -89.800422 30.810425, -89.799027 30.811339, -89.79742499999999 30.811453999999998, -89.797156 30.811753, -89.797809 30.813195999999998, -89.799673 30.815171999999997, -89.800049 30.819077999999998, -89.798654 30.820854999999998, -89.797491 30.821478, -89.796634 30.821648, -89.795497 30.820753999999997, -89.79614699999999 30.818937, -89.796184 30.818098, -89.795327 30.817227, -89.79452599999999 30.817404999999997, -89.793959 30.817922, -89.79348499999999 30.819657999999997, -89.79276 30.820297, -89.79174499999999 30.820387, -89.785894 30.815962, -89.782404 30.817974999999997, -89.781168 30.820123, -89.782202 30.82122, -89.78452899999999 30.820902999999998, -89.78638199999999 30.82124, -89.787454 30.822587, -89.787493 30.824192999999998, -89.7856618889136 30.8258591649338, -89.783985 30.827385, -89.78225599999999 30.831260999999998, -89.78235 30.832552, -89.784092 30.832888999999998, -89.78683699999999 30.830641999999997, -89.78942599999999 30.83047, -89.790432 30.830985, -89.79080499999999 30.832130999999997, -89.790121 30.837982999999998, -89.78750000000001 30.844112, -89.78936499999999 30.847064, -89.791872 30.848692, -89.79247 30.850386, -89.791027 30.851533999999997, -89.789509 30.851381999999997, -89.78743999999999 30.84952, -89.785977 30.849175, -89.785603 30.847523, -89.784717 30.84623, -89.78264899999999 30.845264, -89.7806 30.845508, -89.780228 30.846235, -89.780947 30.848542, -89.783791 30.852131, -89.784416 30.853744, -89.78407299999999 30.855269999999997, -89.783384 30.856022, -89.781643 30.856613, -89.77875499999999 30.855800000000002, -89.774739 30.853254, -89.772587 30.853659999999998, -89.771722 30.854677, -89.767955 30.863857999999997, -89.767789 30.865577, -89.768237 30.866391999999998, -89.778005 30.873410999999997, -89.77919399999999 30.875185, -89.778583 30.878902999999998, -89.77808610760741 30.8796400739157, -89.77711 30.881088, -89.775458 30.881497, -89.770027 30.882254, -89.77201099999999 30.89024, -89.77355299999999 30.896862, -89.773099 30.898338, -89.771986 30.899127, -89.770269 30.89939, -89.765101 30.896918999999997, -89.760701 30.896306, -89.758719 30.897319, -89.757024 30.898947, -89.756671 30.901069, -89.75980299999999 30.906215999999997, -89.76159299999999 30.906591, -89.763622 30.907732, -89.764451 30.910276, -89.764202 30.911906, -89.7626 30.913736, -89.75940299999999 30.915134, -89.75741699999999 30.914993, -89.754086 30.9128, -89.750073 30.91293, -89.746718 30.915805, -89.744789 30.918933, -89.74444799999999 30.920576999999998, -89.745161 30.922416, -89.74820799999999 30.923368999999997, -89.75074099999999 30.923246, -89.75281199999999 30.925413, -89.752549 30.928157, -89.750073 30.929814999999998, -89.748851 30.932816, -89.748897 30.933888, -89.750073 30.935762999999998, -89.75583499999999 30.939542999999997, -89.756554 30.941948999999997, -89.756333 30.943497999999998, -89.751196 30.951438999999997, -89.74359199999999 30.958482, -89.743134 30.959992999999997, -89.735686 30.966573, -89.733933 30.966918999999997, -89.731393 30.96613, -89.729327 30.966241999999998, -89.72804099999999 30.966517999999997, -89.72707199999999 30.967395, -89.727086 30.969707, -89.728382 30.971141, -89.736086 30.974446, -89.737149 30.976080999999997, -89.73688299999999 30.977121999999998, -89.735912 30.977864999999998, -89.732168 30.978088, -89.73050099999999 30.979706999999998, -89.72993 30.98209, -89.72769799999999 30.993329, -89.728563 30.994396, -89.732035 30.994408999999997, -89.73422699999999 30.995601999999998, -89.73554 30.999715, -89.73 30.999748999999998, -89.72812599999999 31.000956, -89.7281451296188 31.002299627985096, -89.72814699999999 31.002430999999998, -89.729616 31.003926999999997, -89.73250399999999 31.004831, -89.741821 31.003441, -89.745215 31.002252, -89.74722899999999 31.000183999999997, -89.749189 30.999554999999997, -89.751481 30.999689999999998, -89.752133 31.000183, -89.752642 31.001852999999997, -89.79978278373939 31.002023716933596, -89.816429 31.002084, -89.82461699999999 31.00206, -89.83554199999999 31.002059, -89.83590796037879 31.002059274641898, -89.85686199999999 31.002074999999998, -89.8636983943507 31.002014733844398, -89.892708 31.001759, -89.897516 31.001913, -89.923119 31.001445999999998, -89.927161 31.001437, -89.941012221834 31.001423343310098, -89.972802 31.001392, -89.9753988023263 31.0016884386217, -89.97543 31.001692, -90.005332 31.001364, -90.022185 31.001302, -90.0292018746201 31.0011956405525, -90.029574 31.001189999999998, -90.05070599999999 31.001215, -90.0675448715494 31.0011785916291, -90.0731210153755 31.0011665351019, -90.0731269103186 31.001166522356097, -90.0974700040835 31.0011138886398, -90.128406 31.001047, -90.131395 31.000923999999998, -90.1484288842297 31.000976319505696, -90.164278 31.001025, -90.164676 31.00098, -90.1873440248678 31.0009028693861, -90.1943924283431 31.0008788863664, -90.2595549256981 31.0006571633247, -90.2950404148182 31.0005364197851, -90.346007 31.000363, -90.34723 31.000359, -90.3472409612406 31.0003589881184, -90.3556049999152 31.0003499218193, -90.369371 31.000335, -90.38053599999999 30.999872, -90.422117 30.99981, -90.42684899999999 30.999775999999997, -90.43735099999999 30.99973, -90.44172499999999 30.999729, -90.44247899999999 30.999722, -90.4566267908343 30.9997560101883, -90.4568848974875 30.9997566306566, -90.4569817623398 30.999756863512197, -90.45698294025209 30.999756866343798, -90.4633242254013 30.9997721102999, -90.474094 30.999798, -90.475928 30.99974, -90.477284 30.999716999999997, -90.48112823746679 30.9997272906729, -90.48587599999999 30.99974, -90.48674899999999 30.999692999999997, -90.54761548218009 30.9997232645164, -90.567195 30.999733, -90.583518 30.999698, -90.584448 30.999698, -90.587373 30.999603999999998, -90.58867599999999 30.99965, -90.648721 30.999485999999997, -90.64966099877469 30.9994951262017, -90.65119299999999 30.999509999999997, -90.66766823174801 30.999451442500003, -90.734473 30.999214, -90.734552 30.999222, -90.7534178744156 30.999503161733198, -90.758775 30.999582999999998, -90.76933299999999 30.999374, -90.775981 30.999491, -90.77985799999999 30.999457, -90.783745 30.999447, -90.8258293654941 30.9993604066554, -90.826027 30.99936, -90.8349414503027 30.9993950334277, -90.85255127820119 30.9994642393362, -90.89473 30.99963, -90.9702367367615 30.999321081116097, -90.9802978056479 30.9992799185086, -91.0421723672845 30.999026772612797, -91.0602129522528 30.9989529636044, -91.06827 30.99892, -91.08081399999999 30.998908999999998, -91.108114 30.998856999999997, -91.108291 30.99888, -91.17613975227569 30.9991437308313, -91.176209 30.999143999999998, -91.224068 30.999183, -91.224839 30.999183, -91.23153100075601 30.999272943754097, -91.24649 30.999474, -91.3481523174901 30.9991927700878, -91.3482344274821 30.999192542945796, -91.37489515433539 30.9991187909986, -91.39651504144929 30.999058983597898, -91.4146279968947 30.9990088774721, -91.423621 30.998984, -91.425749 30.999007, -91.48731499963901 30.9990061406318, -91.49739 30.999005999999998, -91.50011599999999 30.998690999999997, -91.5386610327368 30.999386809168797, -91.538727 30.999388, -91.625118 30.999167, -91.63694199999999 30.999416, -91.625118 31.005374, -91.60649 31.011215999999997, -91.590463 31.01727, -91.578413 31.02403, -91.57169499999999 31.029781999999997, -91.564397 31.038964999999997, -91.56123199999999 31.046225, -91.56036499999999 31.049508, -91.559907 31.054119, -91.56128299999999 31.060906, -91.56415 31.06683, -91.56764799999999 31.070186, -91.59469299999999 31.091444, -91.609523 31.101557, -91.614763 31.104357, -91.61856999999999 31.107328, -91.621535 31.110256999999997, -91.62599399999999 31.116895999999997, -91.626476 31.119124999999997, -91.62570699999999 31.128763, -91.625118 31.131878999999998, -91.624217 31.133729, -91.62167099999999 31.13687, -91.604197 31.154545, -91.59973199999999 31.159592, -91.597062 31.163491999999998, -91.59150199999999 31.173118, -91.589046 31.178586, -91.588695 31.181024999999998, -91.588939 31.188958999999997, -91.5894512930811 31.1911399311563, -91.590051 31.193693, -91.595029 31.201969, -91.60161599999999 31.208572999999998, -91.625119 31.226070999999997, -91.644356 31.234413999999997, -91.652019 31.242690999999997, -91.654907 31.250175, -91.65500899999999 31.251814999999997)))\"\n        ],\n        \"semantic_type\": \"\",\n        \"description\": \"\"\n      }\n    }\n  ]\n}"
            }
          },
          "metadata": {},
          "execution_count": 17
        }
      ]
    },
    {
      "cell_type": "markdown",
      "source": [
        "Set our continental US bounding box to us for the next questions. (2 points)"
      ],
      "metadata": {
        "id": "BWGbGfDFvIty"
      }
    },
    {
      "cell_type": "code",
      "source": [
        "# Bounding of Lower 48 since Hawaii and Alaska are not apart of the set\n",
        "minx, miny, maxx, maxy = -125, 24.396308, -66.93457, 49.384358\n",
        "bbox = states.cx[minx:maxx, miny:maxy]\n",
        "\n",
        "bbox.plot(figsize=(10, 10))\n",
        "plt.title(\"Voter Registration in the Lower 48\")\n",
        "plt.show()"
      ],
      "metadata": {
        "id": "TJ5plxESFYIG",
        "colab": {
          "base_uri": "https://localhost:8080/",
          "height": 354
        },
        "outputId": "5d24010e-c1fc-484c-8bd9-cc8c7c284c3c"
      },
      "execution_count": 19,
      "outputs": [
        {
          "output_type": "display_data",
          "data": {
            "text/plain": [
              "<Figure size 1000x1000 with 1 Axes>"
            ],
            "image/png": "[encoded data removed]"
          },
          "metadata": {}
        }
      ]
    },
    {
      "cell_type": "markdown",
      "source": [
        "Create a dataframe that shows the average voter registration per state. (2 points)"
      ],
      "metadata": {
        "id": "aI6Sgm1f2Vks"
      }
    },
    {
      "cell_type": "code",
      "source": [
        "average_df = new_voter_df = new_voter_df.groupby(\"NAME\")[\"registered_voters\"].mean().reset_index()"
      ],
      "metadata": {
        "id": "BMiDmar7FZ9i"
      },
      "execution_count": 46,
      "outputs": []
    },
    {
      "cell_type": "markdown",
      "source": [
        "Merge the above dataframe results with the mapping data. You will want to use `inner` for the `how` argument. (2 points)"
      ],
      "metadata": {
        "id": "viifmX-n2a03"
      }
    },
    {
      "cell_type": "code",
      "source": [
        "try:\n",
        "    states\n",
        "\n",
        "    # Merge the voter registration data with the mapping data using an inner join\n",
        "    merged_data = states.merge(average_df, left_on=\"NAME\", right_on=\"State\", how=\"inner\")\n",
        "except Exception as e:\n",
        "    print(f\"Error loading shapefile: {e}\")"
      ],
      "metadata": {
        "id": "zCEWmPsHFdff",
        "colab": {
          "base_uri": "https://localhost:8080/"
        },
        "outputId": "c236a054-1559-434a-f465-fe88a57cb772"
      },
      "execution_count": 47,
      "outputs": [
        {
          "output_type": "stream",
          "name": "stdout",
          "text": [
            "Error loading shapefile: 'State'\n"
          ]
        }
      ]
    },
    {
      "cell_type": "markdown",
      "source": [
        "Make a map featuring the following\n",
        "\n",
        "*  a figure size of 25, 15 (1 point)\n",
        "*  A boundary map of the continental US data, with a black linewidth of .25 (2 points)\n",
        "*  The states that we have the voter registration information for highlighted in a color map of your choice. (3 points)\n",
        "*  A legend and a title. (2 points)\n",
        "\n",
        "*Bonus point: add the state abbrevations and average number of registered voters to the map* (1 point)\n",
        "\n",
        "(8 points total)"
      ],
      "metadata": {
        "id": "GcOKuSVb2fHc"
      }
    },
    {
      "cell_type": "code",
      "source": [],
      "metadata": {
        "id": "vNFKjcVkFfsA"
      },
      "execution_count": null,
      "outputs": []
    },
    {
      "cell_type": "markdown",
      "source": [
        "##Conclusion  (15 points)\n",
        "\n",
        "Write a conclusion section that includes\n",
        "* Insights: the insights/outcomes of your notebook (5 points)\n",
        "* Suggestions: Any suggestions or ideas you could offer your client (5 point)\n",
        "* Possible next steps: At least one step that you would take if continuing to work with this project (5 points)\n",
        "\n",
        "\n",
        "Each section should be at least 3-4 complete sentences.\n"
      ],
      "metadata": {
        "id": "iHRHv-t14VI-"
      }
    },
    {
      "cell_type": "markdown",
      "source": [
        "To conclude my findings, voter registration decreased in 2020 for March, April and May due to rise of the Covid-19 shutting down registration offices. Voter registration will continue to increase in the coming years and states like Arizona should make it easier for new voters to register. Arizona's new registered voters could be lower due to laws that make it more difficult to register. It is ranked 14th in terms of state population, so I am surprised by the lack of participation.\n",
        "\n",
        "My suggestions after performing data analysis is to set a campaign for states that have low voter registration to encourage more people to register. This can be done through advertisements and going door to door in neighboorhoods where there are lower populations of people eligible to vote. Advocate for laws that free restrictive policies that don't encourage immigrants to become naturalized so more people can participate in the upcoming elections.\n",
        "\n",
        "If I continued to work on this project, I hope to also compare it to voter participation. There are many people who register to vote, but cannot seem to vote for a candidate. The approval for mainstream candidates were very low for both Kamala and Trump in the past election, so running data for participation can be key to answering questions on why certain individuals do not end up voting. There are also many restrictions for voter participation in certain states, so it would be fascinating to figure out how those states can increase participation and registration."
      ],
      "metadata": {
        "id": "DkhEZBCUQs1J"
      }
    },
    {
      "cell_type": "code",
      "source": [],
      "metadata": {
        "id": "8S1yz4-OFgdM"
      },
      "execution_count": null,
      "outputs": []
    },
    {
      "cell_type": "markdown",
      "source": [
        "##Github (3 points)\n",
        "Post this to your Github and include the accessible link either here or on brightspace."
      ],
      "metadata": {
        "id": "JN7PjbbV7kUB"
      }
    },
    {
      "cell_type": "code",
      "source": [],
      "metadata": {
        "id": "F5FVDQk578qx"
      },
      "execution_count": null,
      "outputs": []
    },
    {
      "cell_type": "markdown",
      "source": [
        "# Academic Integrity Statement\n",
        "\n",
        "By writing my name in the cell below, I certify that:\n",
        "\n",
        "1. I did not use resources other than:\n",
        "   * the Python notebooks provided by the instructor,\n",
        "   * links provided in this notebook,\n",
        "   * the assigned readings, and\n",
        "   * my own personal notes\n",
        "2. This means that I did not:\n",
        "   * look up anything on Google, or Stack Overflow, Chatgpt, &c.,\n",
        "   * discuss the content of the exam with *anyone* other than the instructors or TAs, or\n",
        "   * do anything that technically doen't break these rules but is against their spirit."
      ],
      "metadata": {
        "id": "OX_8cUSY8cQe"
      }
    },
    {
      "cell_type": "markdown",
      "source": [
        "Shreyas Nair"
      ],
      "metadata": {
        "id": "FIbVwE9QPnEt"
      }
    },
    {
      "cell_type": "code",
      "source": [],
      "metadata": {
        "id": "iQO9zh6W8dVc"
      },
      "execution_count": null,
      "outputs": []
    }
  ]
}